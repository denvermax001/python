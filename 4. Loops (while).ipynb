{
 "cells": [
  {
   "cell_type": "code",
   "execution_count": 1,
   "id": "d87e261b-18f2-4c9c-8783-c201247728f9",
   "metadata": {},
   "outputs": [
    {
     "name": "stdout",
     "output_type": "stream",
     "text": [
      "hii 1\n",
      "hii 2\n",
      "hii 3\n",
      "hii 4\n",
      "hii 5\n",
      "hii 6\n",
      "hii 7\n",
      "hii 8\n",
      "hii 9\n",
      "hii 10\n",
      "hii 11\n",
      "hii 12\n",
      "hii 13\n",
      "hii 14\n",
      "hii 15\n",
      "hii 16\n",
      "hii 17\n",
      "hii 18\n",
      "hii 19\n",
      "super 20\n",
      "super 21\n",
      "super 22\n",
      "super 23\n",
      "super 24\n",
      "super 25\n",
      "super 26\n",
      "super 27\n",
      "super 28\n",
      "super 29\n",
      "super 30\n",
      "super 31\n",
      "super 32\n",
      "super 33\n",
      "super 34\n",
      "super 35\n",
      "super 36\n",
      "super 37\n",
      "super 38\n",
      "super 39\n",
      "super 40\n",
      "cool 41\n",
      "cool 42\n",
      "cool 43\n",
      "cool 44\n",
      "cool 45\n",
      "cool 46\n",
      "cool 47\n",
      "cool 48\n",
      "cool 49\n",
      "cool 50\n",
      "cool 51\n",
      "cool 52\n",
      "cool 53\n",
      "cool 54\n",
      "cool 55\n",
      "cool 56\n",
      "cool 57\n",
      "cool 58\n",
      "cool 59\n",
      "cool 60\n",
      "hii 61\n",
      "hii 62\n",
      "hii 63\n",
      "hii 64\n",
      "hii 65\n",
      "hii 66\n",
      "hii 67\n",
      "hii 68\n",
      "hii 69\n",
      "hii 70\n",
      "hii 71\n",
      "hii 72\n",
      "hii 73\n",
      "hii 74\n",
      "hii 75\n",
      "hii 76\n",
      "hii 77\n",
      "hii 78\n",
      "hii 79\n",
      "hii 80\n",
      "hii 81\n",
      "hii 82\n",
      "hii 83\n",
      "hii 84\n",
      "hii 85\n",
      "hii 86\n",
      "hii 87\n",
      "hii 88\n",
      "hii 89\n",
      "hii 90\n",
      "hii 91\n",
      "hii 92\n",
      "hii 93\n",
      "hii 94\n",
      "hii 95\n",
      "hii 96\n",
      "hii 97\n",
      "hii 98\n",
      "hii 99\n",
      "hii 100\n"
     ]
    }
   ],
   "source": [
    "a=1\n",
    "while a<=100:\n",
    "    print(\"hii\",a)\n",
    "    a +=1\n",
    "    while a>=20 and a<=40:\n",
    "        print(\"super\",a)\n",
    "        a+=1\n",
    "    while a>40 and a<=60:\n",
    "        print(\"cool\",a)\n",
    "        a+=1"
   ]
  },
  {
   "cell_type": "code",
   "execution_count": 2,
   "id": "b44d3b5b-8d5a-4b77-a48c-5f1e85cacf7f",
   "metadata": {},
   "outputs": [
    {
     "name": "stdin",
     "output_type": "stream",
     "text": [
      "username: anand\n",
      "Password: anand\n"
     ]
    },
    {
     "name": "stdout",
     "output_type": "stream",
     "text": [
      "Password is wrong\n"
     ]
    },
    {
     "name": "stdin",
     "output_type": "stream",
     "text": [
      "username: anand\n",
      "Password: anand917\n"
     ]
    },
    {
     "name": "stdout",
     "output_type": "stream",
     "text": [
      "Log in successfull\n"
     ]
    }
   ],
   "source": [
    "userid1=\"anand\"\n",
    "password1=\"anand917\"\n",
    "while True:\n",
    "    userid_input1=input(\"username:\")\n",
    "    if userid_input1==userid1: \n",
    "        password_input1=input(\"Password:\")\n",
    "        if password_input1==password1: \n",
    "            print(\"Log in successfull\")\n",
    "            break\n",
    "        elif password_input1!=password1: \n",
    "            print(\"Password is wrong\")\n",
    "    elif userid_input1!=userid1:\n",
    "        print(\"Username is Wrong\")\n",
    "    else:\n",
    "        print(\"username or password is wrong\")"
   ]
  },
  {
   "cell_type": "code",
   "execution_count": 2,
   "id": "6f75a83d-c2aa-4813-8870-a7b2df451db1",
   "metadata": {},
   "outputs": [
    {
     "name": "stdin",
     "output_type": "stream",
     "text": [
      "username: anand\n",
      "Password: anand910\n"
     ]
    },
    {
     "name": "stdout",
     "output_type": "stream",
     "text": [
      "Password is wrong\n"
     ]
    },
    {
     "name": "stdin",
     "output_type": "stream",
     "text": [
      "Password: anand917\n"
     ]
    },
    {
     "name": "stdout",
     "output_type": "stream",
     "text": [
      "Log in successfull\n"
     ]
    }
   ],
   "source": [
    "userid2=\"anand\"\n",
    "password2=\"anand917\"\n",
    "while True:\n",
    "    userid_input2=input(\"username:\")\n",
    "    if userid_input2==userid2: \n",
    "        while True:\n",
    "            password_input2=input(\"Password:\")\n",
    "            if password_input2==password2: \n",
    "                print(\"Log in successfull\")\n",
    "                break\n",
    "            elif password_input2!=password2: \n",
    "                print(\"Password is wrong\")\n",
    "        break\n",
    "    elif userid_input2!=userid2:\n",
    "        print(\"Username is Wrong\")\n",
    "    else:\n",
    "        print(\"username or password is wrong\")"
   ]
  },
  {
   "cell_type": "code",
   "execution_count": null,
   "id": "93cd55bd-a458-4ff1-8edc-906209a880bc",
   "metadata": {},
   "outputs": [],
   "source": []
  }
 ],
 "metadata": {
  "kernelspec": {
   "display_name": "Python [conda env:base] *",
   "language": "python",
   "name": "conda-base-py"
  },
  "language_info": {
   "codemirror_mode": {
    "name": "ipython",
    "version": 3
   },
   "file_extension": ".py",
   "mimetype": "text/x-python",
   "name": "python",
   "nbconvert_exporter": "python",
   "pygments_lexer": "ipython3",
   "version": "3.13.5"
  },
  "widgets": {
   "application/vnd.jupyter.widget-state+json": {
    "state": {},
    "version_major": 2,
    "version_minor": 0
   }
  }
 },
 "nbformat": 4,
 "nbformat_minor": 5
}
