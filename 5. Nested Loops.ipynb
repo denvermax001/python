{
 "cells": [
  {
   "cell_type": "markdown",
   "id": "c8e92784-d121-4739-bdf1-85a72e4c1c15",
   "metadata": {},
   "source": [
    "## LOOPS(WHILE)"
   ]
  },
  {
   "cell_type": "code",
   "execution_count": 3,
   "id": "7a5dc54d-dbb2-4eb8-a7ff-914d7eeedc44",
   "metadata": {},
   "outputs": [
    {
     "name": "stdout",
     "output_type": "stream",
     "text": [
      "hii 1\n",
      "hii 2\n",
      "hii 3\n",
      "hii 4\n",
      "hii 5\n",
      "hii 6\n",
      "hii 7\n",
      "hii 8\n",
      "hii 9\n",
      "hii 10\n",
      "hii 11\n",
      "hii 12\n",
      "hii 13\n",
      "hii 14\n",
      "hii 15\n",
      "hii 16\n",
      "hii 17\n",
      "hii 18\n",
      "hii 19\n",
      "hii 20\n",
      "hii 21\n",
      "hii 22\n",
      "hii 23\n",
      "hii 24\n",
      "hii 25\n",
      "hii 26\n",
      "hii 27\n",
      "hii 28\n",
      "hii 29\n",
      "hii 30\n",
      "hii 31\n",
      "hii 32\n",
      "hii 33\n",
      "hii 34\n",
      "hii 35\n",
      "hii 36\n",
      "hii 37\n",
      "hii 38\n",
      "hii 39\n",
      "hii 40\n",
      "hii 41\n",
      "hii 42\n",
      "hii 43\n",
      "hii 44\n",
      "hii 45\n",
      "hii 46\n",
      "hii 47\n",
      "hii 48\n",
      "hii 49\n",
      "hii 50\n",
      "hii 51\n",
      "hii 52\n",
      "hii 53\n",
      "hii 54\n",
      "hii 55\n",
      "hii 56\n",
      "hii 57\n",
      "hii 58\n",
      "hii 59\n",
      "hii 60\n",
      "hii 61\n",
      "hii 62\n",
      "hii 63\n",
      "hii 64\n",
      "hii 65\n",
      "hii 66\n",
      "hii 67\n",
      "hii 68\n",
      "hii 69\n",
      "hii 70\n",
      "hii 71\n",
      "hii 72\n",
      "hii 73\n",
      "hii 74\n",
      "hii 75\n",
      "hii 76\n",
      "hii 77\n",
      "hii 78\n",
      "hii 79\n",
      "hii 80\n",
      "hii 81\n",
      "hii 82\n",
      "hii 83\n",
      "hii 84\n",
      "hii 85\n",
      "hii 86\n",
      "hii 87\n",
      "hii 88\n",
      "hii 89\n",
      "hii 90\n",
      "hii 91\n",
      "hii 92\n",
      "hii 93\n",
      "hii 94\n",
      "hii 95\n",
      "hii 96\n",
      "hii 97\n",
      "hii 98\n",
      "hii 99\n",
      "hii 100\n"
     ]
    }
   ],
   "source": [
    "a=1\n",
    "while a<=100:\n",
    "    print(\"hii\",a)\n",
    "    a=a+1"
   ]
  },
  {
   "cell_type": "code",
   "execution_count": 2,
   "id": "ab045d75-2391-443e-a8be-483606ef258d",
   "metadata": {},
   "outputs": [
    {
     "name": "stdout",
     "output_type": "stream",
     "text": [
      "hello 10\n",
      "hello 9\n",
      "hello 8\n",
      "hello 7\n",
      "hello 6\n",
      "hello 5\n"
     ]
    }
   ],
   "source": [
    "o=10\n",
    "while o>=5:\n",
    "    print(\"hello\",o)\n",
    "    o=o-1"
   ]
  },
  {
   "cell_type": "code",
   "execution_count": null,
   "id": "e9a8fc52-7bc9-4d5a-a378-a121716ef6f1",
   "metadata": {},
   "outputs": [],
   "source": []
  },
  {
   "cell_type": "markdown",
   "id": "a5369c36-7aaf-42d3-ac93-eeff205524c9",
   "metadata": {},
   "source": [
    "## Nested while LOOP"
   ]
  },
  {
   "cell_type": "code",
   "execution_count": 1,
   "id": "35667c8f-d93a-44c8-bddc-1119fcaa3761",
   "metadata": {},
   "outputs": [
    {
     "name": "stdout",
     "output_type": "stream",
     "text": [
      "hi 10\n",
      "hi 11\n",
      "hi 12\n",
      "hi 13\n",
      "hi 14\n",
      "hi 15\n",
      "hi 16\n",
      "hi 17\n",
      "hi 18\n",
      "hi 19\n",
      "super 20\n",
      "super 21\n",
      "super 22\n",
      "super 23\n",
      "super 24\n",
      "super 25\n",
      "super 26\n",
      "super 27\n",
      "super 28\n",
      "super 29\n",
      "super 30\n",
      "super 31\n",
      "super 32\n",
      "super 33\n",
      "super 34\n",
      "super 35\n",
      "super 36\n",
      "super 37\n",
      "super 38\n",
      "super 39\n",
      "super 40\n",
      "hi 41\n",
      "hi 42\n",
      "hi 43\n",
      "hi 44\n",
      "hi 45\n",
      "hi 46\n",
      "hi 47\n",
      "hi 48\n",
      "hi 49\n",
      "hi 50\n",
      "hi 51\n",
      "hi 52\n",
      "hi 53\n",
      "hi 54\n",
      "hi 55\n",
      "hi 56\n",
      "hi 57\n",
      "hi 58\n",
      "hi 59\n",
      "hi 60\n",
      "hi 61\n",
      "hi 62\n",
      "hi 63\n",
      "hi 64\n",
      "hi 65\n",
      "hi 66\n",
      "hi 67\n",
      "hi 68\n",
      "hi 69\n",
      "hi 70\n",
      "hi 71\n",
      "hi 72\n",
      "hi 73\n",
      "hi 74\n",
      "hi 75\n",
      "hi 76\n",
      "hi 77\n",
      "hi 78\n",
      "hi 79\n",
      "hi 80\n",
      "hi 81\n",
      "hi 82\n",
      "hi 83\n",
      "hi 84\n",
      "hi 85\n",
      "hi 86\n",
      "hi 87\n",
      "hi 88\n",
      "hi 89\n",
      "hi 90\n",
      "hi 91\n",
      "hi 92\n",
      "hi 93\n",
      "hi 94\n",
      "hi 95\n",
      "hi 96\n",
      "hi 97\n",
      "hi 98\n",
      "hi 99\n",
      "hi 100\n"
     ]
    }
   ],
   "source": [
    "a=10\n",
    "while a<=100:\n",
    "    print(\"hi\",a)\n",
    "    a=a+1\n",
    "    while a>=20 and a<=40:\n",
    "        print(\"super\",a)\n",
    "        a=a+1\n",
    "        "
   ]
  },
  {
   "cell_type": "code",
   "execution_count": null,
   "id": "7092f3cc-be99-41b5-bdc5-850e673b5961",
   "metadata": {},
   "outputs": [],
   "source": []
  },
  {
   "cell_type": "markdown",
   "id": "faa7eae7-8d07-44f7-98a6-d093304c726c",
   "metadata": {},
   "source": [
    "## LOOP (FOR)"
   ]
  },
  {
   "cell_type": "code",
   "execution_count": 1,
   "id": "638b2a0e-21ba-4769-b1da-37f1e9f574b1",
   "metadata": {},
   "outputs": [
    {
     "name": "stdout",
     "output_type": "stream",
     "text": [
      "hello raj\n",
      "hello prem\n",
      "hello surya\n",
      "hello chandu\n",
      "hello harry\n"
     ]
    }
   ],
   "source": [
    "cast=[\"raj\",\"prem\",\"surya\",\"chandu\",\"harry\"]\n",
    "for crew in cast:\n",
    "    print(\"hello\"+\" \"+crew)"
   ]
  },
  {
   "cell_type": "code",
   "execution_count": 2,
   "id": "923e181c-b2b3-4e21-a1be-ce456d22a607",
   "metadata": {},
   "outputs": [
    {
     "name": "stdout",
     "output_type": "stream",
     "text": [
      "1\n",
      "3\n",
      "5\n",
      "7\n",
      "9\n",
      "11\n",
      "13\n",
      "15\n",
      "17\n",
      "19\n"
     ]
    }
   ],
   "source": [
    "ab=range(1,21,2)\n",
    "for a in ab:\n",
    "    print(a)"
   ]
  },
  {
   "cell_type": "code",
   "execution_count": 11,
   "id": "0513350c-5010-4dfe-9aa2-39a23a542c64",
   "metadata": {},
   "outputs": [
    {
     "name": "stdout",
     "output_type": "stream",
     "text": [
      "21\n",
      "20\n",
      "19\n",
      "18\n",
      "17\n",
      "16\n",
      "15\n",
      "14\n",
      "13\n",
      "12\n",
      "11\n",
      "10\n",
      "9\n",
      "8\n",
      "7\n",
      "6\n",
      "5\n",
      "4\n",
      "3\n",
      "2\n",
      "1\n"
     ]
    }
   ],
   "source": [
    "cd=range(21,0,-1)\n",
    "for c in cd:\n",
    "    print(c)"
   ]
  },
  {
   "cell_type": "code",
   "execution_count": 18,
   "id": "38ea576e-714a-4804-b56c-7ddedf7d588c",
   "metadata": {},
   "outputs": [
    {
     "name": "stdout",
     "output_type": "stream",
     "text": [
      "80\n",
      "75\n",
      "70\n",
      "65\n",
      "60\n",
      "55\n",
      "50\n",
      "45\n"
     ]
    }
   ],
   "source": [
    "xy=range(80,40,-5)\n",
    "for z in xy:\n",
    "    print(z)"
   ]
  },
  {
   "cell_type": "code",
   "execution_count": 21,
   "id": "4fecf732-3146-40a7-9de4-2e26d77b743f",
   "metadata": {},
   "outputs": [],
   "source": [
    "logid=\"kiranch\"\n",
    "passcode=\"lenin07\""
   ]
  },
  {
   "cell_type": "code",
   "execution_count": 23,
   "id": "c978f0f0-7e23-4a90-9e66-0a8b2675780e",
   "metadata": {},
   "outputs": [
    {
     "name": "stdin",
     "output_type": "stream",
     "text": [
      "logid: kiranch\n",
      "passcode: lenin07\n"
     ]
    },
    {
     "name": "stdout",
     "output_type": "stream",
     "text": [
      "log in successful.\n"
     ]
    }
   ],
   "source": [
    "logid_input=input(\"logid:\")\n",
    "while True:\n",
    "    if logid_input==logid:\n",
    "        passcode_input=input(\"passcode:\")\n",
    "        if passcode_input==passcode:\n",
    "            print(\"log in successful.\")\n",
    "            break\n",
    "        elif passcode_input!=passcode:\n",
    "            print(\"passcode is wrong.\")\n",
    "    elif logid_input!=logid:\n",
    "        print(\"logid is wrong.\")\n",
    "    else:\n",
    "        print(\"logid or passcode is wrong.\")"
   ]
  },
  {
   "cell_type": "code",
   "execution_count": null,
   "id": "7cfc0681-6af9-482a-859e-4637c15ba88a",
   "metadata": {},
   "outputs": [],
   "source": []
  },
  {
   "cell_type": "code",
   "execution_count": null,
   "id": "a8778f12-d169-4d13-91e0-66e3dd43e068",
   "metadata": {},
   "outputs": [],
   "source": []
  },
  {
   "cell_type": "code",
   "execution_count": null,
   "id": "9ed5583e-1392-4304-ba29-8cfb85ebd1e6",
   "metadata": {},
   "outputs": [],
   "source": []
  },
  {
   "cell_type": "code",
   "execution_count": null,
   "id": "dcd85f69-8794-43ee-a9aa-5491de886f35",
   "metadata": {},
   "outputs": [],
   "source": []
  },
  {
   "cell_type": "code",
   "execution_count": null,
   "id": "c22bd9fb-ac2f-46f8-acfe-da4285db0ba0",
   "metadata": {},
   "outputs": [],
   "source": []
  }
 ],
 "metadata": {
  "kernelspec": {
   "display_name": "Python [conda env:base] *",
   "language": "python",
   "name": "conda-base-py"
  },
  "language_info": {
   "codemirror_mode": {
    "name": "ipython",
    "version": 3
   },
   "file_extension": ".py",
   "mimetype": "text/x-python",
   "name": "python",
   "nbconvert_exporter": "python",
   "pygments_lexer": "ipython3",
   "version": "3.13.5"
  },
  "widgets": {
   "application/vnd.jupyter.widget-state+json": {
    "state": {},
    "version_major": 2,
    "version_minor": 0
   }
  }
 },
 "nbformat": 4,
 "nbformat_minor": 5
}
