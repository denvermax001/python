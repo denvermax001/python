{
 "cells": [
  {
   "cell_type": "code",
   "execution_count": 1,
   "id": "18168068-8f7c-4e78-ac66-d9bdfc6dbf0e",
   "metadata": {},
   "outputs": [],
   "source": [
    "s1={5,11,23,32}\n",
    "s2={5,10,25,30}"
   ]
  },
  {
   "cell_type": "code",
   "execution_count": 2,
   "id": "23e6faca-904f-41b5-af36-e3e02c94b05b",
   "metadata": {},
   "outputs": [
    {
     "data": {
      "text/plain": [
       "{5}"
      ]
     },
     "execution_count": 2,
     "metadata": {},
     "output_type": "execute_result"
    }
   ],
   "source": [
    "s1.intersection(s2)"
   ]
  },
  {
   "cell_type": "code",
   "execution_count": 3,
   "id": "7287817f-8738-44d4-a909-577810d287c0",
   "metadata": {},
   "outputs": [
    {
     "data": {
      "text/plain": [
       "{5, 10, 11, 23, 25, 30, 32}"
      ]
     },
     "execution_count": 3,
     "metadata": {},
     "output_type": "execute_result"
    }
   ],
   "source": [
    "s1.union(s2)"
   ]
  },
  {
   "cell_type": "code",
   "execution_count": 4,
   "id": "6fc053c1-d976-4018-b7f0-784eb2ef882a",
   "metadata": {},
   "outputs": [
    {
     "data": {
      "text/plain": [
       "{11, 23, 32}"
      ]
     },
     "execution_count": 4,
     "metadata": {},
     "output_type": "execute_result"
    }
   ],
   "source": [
    "s1.difference(s2)"
   ]
  },
  {
   "cell_type": "code",
   "execution_count": 5,
   "id": "b4c05b66-fc47-40da-b599-5e0d3085a752",
   "metadata": {},
   "outputs": [
    {
     "data": {
      "text/plain": [
       "{10, 25, 30}"
      ]
     },
     "execution_count": 5,
     "metadata": {},
     "output_type": "execute_result"
    }
   ],
   "source": [
    "s2.difference(s1)"
   ]
  },
  {
   "cell_type": "code",
   "execution_count": 6,
   "id": "ee978241-27fd-4216-9a50-524d03932a4c",
   "metadata": {},
   "outputs": [
    {
     "data": {
      "text/plain": [
       "{5, 11, 23, 32, 45}"
      ]
     },
     "execution_count": 6,
     "metadata": {},
     "output_type": "execute_result"
    }
   ],
   "source": [
    "s1.add(45)   # adds the values\n",
    "s1"
   ]
  },
  {
   "cell_type": "code",
   "execution_count": 13,
   "id": "686ee9c3-280a-4125-838d-2ea647762ed2",
   "metadata": {},
   "outputs": [],
   "source": [
    "s1.add(60)"
   ]
  },
  {
   "cell_type": "code",
   "execution_count": 14,
   "id": "8c96c453-98ef-4ba6-921b-b695a48528fb",
   "metadata": {},
   "outputs": [
    {
     "data": {
      "text/plain": [
       "{5, 11, 23, 32, 45, 60}"
      ]
     },
     "execution_count": 14,
     "metadata": {},
     "output_type": "execute_result"
    }
   ],
   "source": [
    "s1"
   ]
  },
  {
   "cell_type": "code",
   "execution_count": 15,
   "id": "26d41c54-6731-4e4b-b93b-92d48d873207",
   "metadata": {},
   "outputs": [
    {
     "data": {
      "text/plain": [
       "6"
      ]
     },
     "execution_count": 15,
     "metadata": {},
     "output_type": "execute_result"
    }
   ],
   "source": [
    "len(s1)"
   ]
  },
  {
   "cell_type": "code",
   "execution_count": 16,
   "id": "e23a4e8b-befd-4524-af61-a77a03ad51c9",
   "metadata": {},
   "outputs": [
    {
     "data": {
      "text/plain": [
       "set"
      ]
     },
     "execution_count": 16,
     "metadata": {},
     "output_type": "execute_result"
    }
   ],
   "source": [
    "type(s1)"
   ]
  },
  {
   "cell_type": "code",
   "execution_count": 17,
   "id": "080cd175-b56f-4952-b5f5-fa778039565e",
   "metadata": {},
   "outputs": [
    {
     "data": {
      "text/plain": [
       "5"
      ]
     },
     "execution_count": 17,
     "metadata": {},
     "output_type": "execute_result"
    }
   ],
   "source": [
    "min(s1)"
   ]
  },
  {
   "cell_type": "code",
   "execution_count": 18,
   "id": "b82f2915-5c21-4bb7-ac82-bc0e9339f01c",
   "metadata": {},
   "outputs": [
    {
     "data": {
      "text/plain": [
       "60"
      ]
     },
     "execution_count": 18,
     "metadata": {},
     "output_type": "execute_result"
    }
   ],
   "source": [
    "max(s1)"
   ]
  },
  {
   "cell_type": "code",
   "execution_count": 19,
   "id": "3c8af7d0-a86c-4612-b87a-bec7e30c6c43",
   "metadata": {},
   "outputs": [
    {
     "data": {
      "text/plain": [
       "{2, 27, 45, 89}"
      ]
     },
     "execution_count": 19,
     "metadata": {},
     "output_type": "execute_result"
    }
   ],
   "source": [
    "core=(2,89,45,27)\n",
    "skill=set(core)\n",
    "skill"
   ]
  },
  {
   "cell_type": "code",
   "execution_count": 22,
   "id": "1bfca74d-3df5-4858-b457-8cdbf629d3e7",
   "metadata": {},
   "outputs": [
    {
     "data": {
      "text/plain": [
       "'7207376621'"
      ]
     },
     "execution_count": 22,
     "metadata": {},
     "output_type": "execute_result"
    }
   ],
   "source": [
    "phone1=str(72073)\n",
    "phone2=str(76621)\n",
    "fullphone=phone1+phone2\n",
    "fullphone"
   ]
  },
  {
   "cell_type": "code",
   "execution_count": null,
   "id": "c99df0dd-1fe4-4aea-8f43-71ee404cc484",
   "metadata": {},
   "outputs": [],
   "source": []
  }
 ],
 "metadata": {
  "kernelspec": {
   "display_name": "Python [conda env:base] *",
   "language": "python",
   "name": "conda-base-py"
  },
  "language_info": {
   "codemirror_mode": {
    "name": "ipython",
    "version": 3
   },
   "file_extension": ".py",
   "mimetype": "text/x-python",
   "name": "python",
   "nbconvert_exporter": "python",
   "pygments_lexer": "ipython3",
   "version": "3.13.5"
  },
  "widgets": {
   "application/vnd.jupyter.widget-state+json": {
    "state": {},
    "version_major": 2,
    "version_minor": 0
   }
  }
 },
 "nbformat": 4,
 "nbformat_minor": 5
}
