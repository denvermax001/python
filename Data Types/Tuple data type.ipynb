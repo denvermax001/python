{
 "cells": [
  {
   "cell_type": "markdown",
   "id": "c7f2a5c9-439e-4936-9dd8-40ea3cc6005b",
   "metadata": {
    "editable": true,
    "slideshow": {
     "slide_type": ""
    },
    "tags": []
   },
   "source": [
    "# Tuple data type \n",
    "\n",
    "its an immutable & ordered data type"
   ]
  },
  {
   "cell_type": "code",
   "execution_count": 1,
   "id": "5523f5bf-1184-4e30-a67e-a1d9acf5e946",
   "metadata": {},
   "outputs": [
    {
     "data": {
      "text/plain": [
       "'cool'"
      ]
     },
     "execution_count": 1,
     "metadata": {},
     "output_type": "execute_result"
    }
   ],
   "source": [
    "anand=(2,99.7,\"cool\",90,\"best\",2,2)\n",
    "anand[2]\n",
    "\n",
    "# Tuple works as container which store anything like list, dictionary, set"
   ]
  },
  {
   "cell_type": "code",
   "execution_count": 15,
   "id": "6fd8507f-e595-43ff-95bc-263146570914",
   "metadata": {},
   "outputs": [
    {
     "ename": "TypeError",
     "evalue": "'tuple' object does not support item assignment",
     "output_type": "error",
     "traceback": [
      "\u001b[1;31m---------------------------------------------------------------------------\u001b[0m",
      "\u001b[1;31mTypeError\u001b[0m                                 Traceback (most recent call last)",
      "Cell \u001b[1;32mIn[15], line 1\u001b[0m\n\u001b[1;32m----> 1\u001b[0m anand[\u001b[38;5;241m3\u001b[39m]\u001b[38;5;241m=\u001b[39m\u001b[38;5;124m\"\u001b[39m\u001b[38;5;124mclass\u001b[39m\u001b[38;5;124m\"\u001b[39m\n",
      "\u001b[1;31mTypeError\u001b[0m: 'tuple' object does not support item assignment"
     ]
    }
   ],
   "source": [
    "anand[3]=\"class\"  \n",
    "# we got error, becoz tuple will never allow item assignement, \n",
    "# in other words we cant change tuple data values."
   ]
  },
  {
   "cell_type": "code",
   "execution_count": 3,
   "id": "4c361c0e-e83f-499c-a5ec-e630f6396093",
   "metadata": {},
   "outputs": [
    {
     "data": {
      "text/plain": [
       "(99.7, 'cool', 90, 'best', 2, 2)"
      ]
     },
     "execution_count": 3,
     "metadata": {},
     "output_type": "execute_result"
    }
   ],
   "source": [
    "anand[1:] # this range gives values of positions from 1 to till end"
   ]
  },
  {
   "cell_type": "code",
   "execution_count": 4,
   "id": "ea2e07bb-b40a-4cee-a6a9-f95981be09b1",
   "metadata": {},
   "outputs": [
    {
     "data": {
      "text/plain": [
       "('cool', 90)"
      ]
     },
     "execution_count": 4,
     "metadata": {},
     "output_type": "execute_result"
    }
   ],
   "source": [
    "anand[2:4]  # this range gives values of positions from 2 to 3rd position, because python ignores (4)last position. "
   ]
  },
  {
   "cell_type": "code",
   "execution_count": 22,
   "id": "44b944cb-bb98-4df9-bcdb-9f31f36b37d9",
   "metadata": {},
   "outputs": [
    {
     "data": {
      "text/plain": [
       "(2, 99.7, 'cool', 90, 'best', 2, 2)"
      ]
     },
     "execution_count": 22,
     "metadata": {},
     "output_type": "execute_result"
    }
   ],
   "source": [
    "anand[::1] # it gives every 1st positions\n",
    "# emptyness before & after 1st \":\" refers to till the end in both sides. \n",
    "# 2nd \":\" used for passing arguments. \n",
    "# \"1\" is our arguments, which tells \"give values from beginning\"\n",
    "# # and its next one position, and repeat till the end."
   ]
  },
  {
   "cell_type": "code",
   "execution_count": 7,
   "id": "16710787-3f45-4538-854f-60ddf2caf545",
   "metadata": {},
   "outputs": [
    {
     "data": {
      "text/plain": [
       "(2, 'cool', 'best', 2)"
      ]
     },
     "execution_count": 7,
     "metadata": {},
     "output_type": "execute_result"
    }
   ],
   "source": [
    "anand[::2] # it gives values of all 0,2,4,6 positions"
   ]
  },
  {
   "cell_type": "code",
   "execution_count": 23,
   "id": "f90eca39-afe8-4a83-94a4-0edeef8a3431",
   "metadata": {},
   "outputs": [
    {
     "ename": "ValueError",
     "evalue": "slice step cannot be zero",
     "output_type": "error",
     "traceback": [
      "\u001b[1;31m---------------------------------------------------------------------------\u001b[0m",
      "\u001b[1;31mValueError\u001b[0m                                Traceback (most recent call last)",
      "Cell \u001b[1;32mIn[23], line 1\u001b[0m\n\u001b[1;32m----> 1\u001b[0m anand[::\u001b[38;5;241m0\u001b[39m]\n",
      "\u001b[1;31mValueError\u001b[0m: slice step cannot be zero"
     ]
    }
   ],
   "source": [
    "anand[::0] # we got error, becoz next position can't be 0"
   ]
  },
  {
   "cell_type": "code",
   "execution_count": 24,
   "id": "b74ead63-204b-426b-97fa-e377f5f665eb",
   "metadata": {},
   "outputs": [
    {
     "data": {
      "text/plain": [
       "(2, 2, 'best', 90, 'cool', 99.7, 2)"
      ]
     },
     "execution_count": 24,
     "metadata": {},
     "output_type": "execute_result"
    }
   ],
   "source": [
    "anand[::-1] # This negative values gives the data in reverse. \n",
    "# becoz it gives every next \"-1\" position."
   ]
  },
  {
   "cell_type": "markdown",
   "id": "b776be2e-6228-4205-a3a9-ec5ce027d6a9",
   "metadata": {},
   "source": [
    "## Concatination & Repetition"
   ]
  },
  {
   "cell_type": "code",
   "execution_count": 8,
   "id": "2d68390d-1e74-4238-8817-dbcf98a51347",
   "metadata": {},
   "outputs": [
    {
     "data": {
      "text/plain": [
       "(2, 3, 96, 90, 34, 46)"
      ]
     },
     "execution_count": 8,
     "metadata": {},
     "output_type": "execute_result"
    }
   ],
   "source": [
    "sai=(2,3,96)\n",
    "kiran=(90,34,46)\n",
    "sai+kiran            # concatination"
   ]
  },
  {
   "cell_type": "code",
   "execution_count": 9,
   "id": "849efd7f-9a4c-4091-b7ac-d2db062213c2",
   "metadata": {},
   "outputs": [
    {
     "data": {
      "text/plain": [
       "(2,\n",
       " 3,\n",
       " 96,\n",
       " 2,\n",
       " 3,\n",
       " 96,\n",
       " 2,\n",
       " 3,\n",
       " 96,\n",
       " 2,\n",
       " 3,\n",
       " 96,\n",
       " 2,\n",
       " 3,\n",
       " 96,\n",
       " 2,\n",
       " 3,\n",
       " 96,\n",
       " 2,\n",
       " 3,\n",
       " 96,\n",
       " 2,\n",
       " 3,\n",
       " 96,\n",
       " 2,\n",
       " 3,\n",
       " 96,\n",
       " 2,\n",
       " 3,\n",
       " 96)"
      ]
     },
     "execution_count": 9,
     "metadata": {},
     "output_type": "execute_result"
    }
   ],
   "source": [
    "sai*10  # repetition"
   ]
  },
  {
   "cell_type": "markdown",
   "id": "29902a3c-3755-4599-9652-02ba1567808d",
   "metadata": {},
   "source": [
    "## Method & Function"
   ]
  },
  {
   "cell_type": "code",
   "execution_count": 21,
   "id": "9d921419-937b-4e9a-8a84-ee1421f3db12",
   "metadata": {},
   "outputs": [],
   "source": [
    "# a=variable name\n",
    "# Methods:    a.count()\n",
    "#             a.index()\n",
    "\n",
    "# Functions: len(a)\n",
    "#            type(a)\n",
    "#            tuple(a)"
   ]
  },
  {
   "cell_type": "code",
   "execution_count": 11,
   "id": "f4ca592e-77cb-493e-8b1b-6b5abe9cfbc5",
   "metadata": {},
   "outputs": [
    {
     "data": {
      "text/plain": [
       "3"
      ]
     },
     "execution_count": 11,
     "metadata": {},
     "output_type": "execute_result"
    }
   ],
   "source": [
    "anand.count(2)"
   ]
  },
  {
   "cell_type": "code",
   "execution_count": 12,
   "id": "4795563c-ed36-4799-9d53-a5600ba8f6d9",
   "metadata": {},
   "outputs": [
    {
     "data": {
      "text/plain": [
       "2"
      ]
     },
     "execution_count": 12,
     "metadata": {},
     "output_type": "execute_result"
    }
   ],
   "source": [
    "anand.index(\"cool\")"
   ]
  },
  {
   "cell_type": "code",
   "execution_count": 13,
   "id": "677e2b9f-e72e-44c6-86b1-e8833437b8c7",
   "metadata": {},
   "outputs": [
    {
     "data": {
      "text/plain": [
       "7"
      ]
     },
     "execution_count": 13,
     "metadata": {},
     "output_type": "execute_result"
    }
   ],
   "source": [
    "len(anand)"
   ]
  },
  {
   "cell_type": "code",
   "execution_count": 14,
   "id": "afdfbc0b-88f9-4daa-8576-354976810c34",
   "metadata": {},
   "outputs": [
    {
     "data": {
      "text/plain": [
       "tuple"
      ]
     },
     "execution_count": 14,
     "metadata": {},
     "output_type": "execute_result"
    }
   ],
   "source": [
    "type(anand)"
   ]
  },
  {
   "cell_type": "code",
   "execution_count": 27,
   "id": "9bf6bd5a-b37e-4a6c-be0b-cdd1754640eb",
   "metadata": {},
   "outputs": [
    {
     "name": "stdout",
     "output_type": "stream",
     "text": [
      "(23, 'hii')\n"
     ]
    }
   ],
   "source": [
    "dora=[23,\"hii\"]  # Variable \"dara\" is initially \"list\" data type\n",
    "new_dora=tuple(dora)  # for security purpose we converted list into tuple\n",
    "print(new_dora)"
   ]
  },
  {
   "cell_type": "code",
   "execution_count": 30,
   "id": "edb08145-ba17-44eb-ad0f-990330177822",
   "metadata": {},
   "outputs": [
    {
     "ename": "TypeError",
     "evalue": "'tuple' object does not support item assignment",
     "output_type": "error",
     "traceback": [
      "\u001b[1;31m---------------------------------------------------------------------------\u001b[0m",
      "\u001b[1;31mTypeError\u001b[0m                                 Traceback (most recent call last)",
      "Cell \u001b[1;32mIn[30], line 1\u001b[0m\n\u001b[1;32m----> 1\u001b[0m new_dora[\u001b[38;5;241m0\u001b[39m]\u001b[38;5;241m=\u001b[39m\u001b[38;5;241m30\u001b[39m\n",
      "\u001b[1;31mTypeError\u001b[0m: 'tuple' object does not support item assignment"
     ]
    }
   ],
   "source": [
    "new_dora[0]=30  # we got error becoz tuple can't be changed"
   ]
  },
  {
   "cell_type": "code",
   "execution_count": null,
   "id": "d026a018-0086-4de4-b24e-17eeb6e9b401",
   "metadata": {},
   "outputs": [],
   "source": []
  }
 ],
 "metadata": {
  "kernelspec": {
   "display_name": "Python [conda env:base] *",
   "language": "python",
   "name": "conda-base-py"
  },
  "language_info": {
   "codemirror_mode": {
    "name": "ipython",
    "version": 3
   },
   "file_extension": ".py",
   "mimetype": "text/x-python",
   "name": "python",
   "nbconvert_exporter": "python",
   "pygments_lexer": "ipython3",
   "version": "3.13.5"
  },
  "widgets": {
   "application/vnd.jupyter.widget-state+json": {
    "state": {},
    "version_major": 2,
    "version_minor": 0
   }
  }
 },
 "nbformat": 4,
 "nbformat_minor": 5
}
