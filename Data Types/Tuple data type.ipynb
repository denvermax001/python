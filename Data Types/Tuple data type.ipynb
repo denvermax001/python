{
 "cells": [
  {
   "cell_type": "markdown",
   "id": "c7f2a5c9-439e-4936-9dd8-40ea3cc6005b",
   "metadata": {},
   "source": [
    "# Tuple data type \n",
    "\n",
    "its an immutable & ordered data type"
   ]
  },
  {
   "cell_type": "code",
   "execution_count": 1,
   "id": "5523f5bf-1184-4e30-a67e-a1d9acf5e946",
   "metadata": {},
   "outputs": [
    {
     "data": {
      "text/plain": [
       "'cool'"
      ]
     },
     "execution_count": 1,
     "metadata": {},
     "output_type": "execute_result"
    }
   ],
   "source": [
    "anand=(2,99.7,\"cool\",90,\"best\",2,2)\n",
    "anand[2]\n",
    "\n",
    "# Tuple works as container which store anything like list, dictionary, set"
   ]
  },
  {
   "cell_type": "code",
   "execution_count": 2,
   "id": "6fd8507f-e595-43ff-95bc-263146570914",
   "metadata": {},
   "outputs": [
    {
     "ename": "TypeError",
     "evalue": "'tuple' object does not support item assignment",
     "output_type": "error",
     "traceback": [
      "\u001b[1;31m---------------------------------------------------------------------------\u001b[0m",
      "\u001b[1;31mTypeError\u001b[0m                                 Traceback (most recent call last)",
      "Cell \u001b[1;32mIn[2], line 1\u001b[0m\n\u001b[1;32m----> 1\u001b[0m anand[\u001b[38;5;241m3\u001b[39m]\u001b[38;5;241m=\u001b[39m\u001b[38;5;124m\"\u001b[39m\u001b[38;5;124mclass\u001b[39m\u001b[38;5;124m\"\u001b[39m\n",
      "\u001b[1;31mTypeError\u001b[0m: 'tuple' object does not support item assignment"
     ]
    }
   ],
   "source": [
    "anand[3]=\"class\"\n",
    "# Got error becoz we cant change the positions in tuple.\n",
    "# That's why tuple is immutable data types ( we cant chnage the data)"
   ]
  },
  {
   "cell_type": "code",
   "execution_count": 3,
   "id": "4c361c0e-e83f-499c-a5ec-e630f6396093",
   "metadata": {},
   "outputs": [
    {
     "data": {
      "text/plain": [
       "(99.7, 'cool', 90, 'best', 2, 2)"
      ]
     },
     "execution_count": 3,
     "metadata": {},
     "output_type": "execute_result"
    }
   ],
   "source": [
    "anand[1:] # this range gives positions from 1 to till end\n",
    "# the emptyness after semi-colon refers to \"till the end\""
   ]
  },
  {
   "cell_type": "code",
   "execution_count": 4,
   "id": "ea2e07bb-b40a-4cee-a6a9-f95981be09b1",
   "metadata": {},
   "outputs": [
    {
     "data": {
      "text/plain": [
       "('cool', 90)"
      ]
     },
     "execution_count": 4,
     "metadata": {},
     "output_type": "execute_result"
    }
   ],
   "source": [
    "anand[2:4]  \n",
    "# this range gives positions from 2 to 3rd position, \n",
    "# because python ignores last position. In this case 4th position."
   ]
  },
  {
   "cell_type": "code",
   "execution_count": 6,
   "id": "b74ead63-204b-426b-97fa-e377f5f665eb",
   "metadata": {},
   "outputs": [
    {
     "data": {
      "text/plain": [
       "(2, 2, 'best', 90, 'cool', 99.7, 2)"
      ]
     },
     "execution_count": 6,
     "metadata": {},
     "output_type": "execute_result"
    }
   ],
   "source": [
    "anand[: : -1]\n",
    "# 1st semi-colun before & after emptyness refers to complete data, without lossing any positions. \n",
    "# 2nd semi-colun is for adding arguments. \n",
    "# we passed \"-1\", it means printing should start from -1 position."
   ]
  },
  {
   "cell_type": "code",
   "execution_count": 7,
   "id": "16710787-3f45-4538-854f-60ddf2caf545",
   "metadata": {},
   "outputs": [
    {
     "data": {
      "text/plain": [
       "(2, 'cool', 'best', 2)"
      ]
     },
     "execution_count": 7,
     "metadata": {},
     "output_type": "execute_result"
    }
   ],
   "source": [
    "anand[: : 2] # it gives values of all 0,2,4,6 positions"
   ]
  },
  {
   "cell_type": "markdown",
   "id": "b776be2e-6228-4205-a3a9-ec5ce027d6a9",
   "metadata": {},
   "source": [
    "## Concatination & Repetition"
   ]
  },
  {
   "cell_type": "code",
   "execution_count": 8,
   "id": "2d68390d-1e74-4238-8817-dbcf98a51347",
   "metadata": {},
   "outputs": [
    {
     "data": {
      "text/plain": [
       "(2, 3, 96, 90, 34, 46)"
      ]
     },
     "execution_count": 8,
     "metadata": {},
     "output_type": "execute_result"
    }
   ],
   "source": [
    "sai=(2,3,96)\n",
    "kiran=(90,34,46)\n",
    "sai+kiran            # concatination, it means \"addition\""
   ]
  },
  {
   "cell_type": "code",
   "execution_count": 9,
   "id": "849efd7f-9a4c-4091-b7ac-d2db062213c2",
   "metadata": {},
   "outputs": [
    {
     "data": {
      "text/plain": [
       "(2,\n",
       " 3,\n",
       " 96,\n",
       " 2,\n",
       " 3,\n",
       " 96,\n",
       " 2,\n",
       " 3,\n",
       " 96,\n",
       " 2,\n",
       " 3,\n",
       " 96,\n",
       " 2,\n",
       " 3,\n",
       " 96,\n",
       " 2,\n",
       " 3,\n",
       " 96,\n",
       " 2,\n",
       " 3,\n",
       " 96,\n",
       " 2,\n",
       " 3,\n",
       " 96,\n",
       " 2,\n",
       " 3,\n",
       " 96,\n",
       " 2,\n",
       " 3,\n",
       " 96)"
      ]
     },
     "execution_count": 9,
     "metadata": {},
     "output_type": "execute_result"
    }
   ],
   "source": [
    "sai*10  # repetition\n",
    "# # it repeats the data, in this case 10 times"
   ]
  },
  {
   "cell_type": "markdown",
   "id": "29902a3c-3755-4599-9652-02ba1567808d",
   "metadata": {},
   "source": [
    "## Method & Function"
   ]
  },
  {
   "cell_type": "code",
   "execution_count": 10,
   "id": "9d921419-937b-4e9a-8a84-ee1421f3db12",
   "metadata": {},
   "outputs": [],
   "source": [
    "# a=variable name\n",
    "# Methods:    a.count()\n",
    "#             a.count()\n",
    "\n",
    "# Functions: len(a)\n",
    "#            type(a)\n",
    "#            tuple(a)"
   ]
  },
  {
   "cell_type": "code",
   "execution_count": 11,
   "id": "f4ca592e-77cb-493e-8b1b-6b5abe9cfbc5",
   "metadata": {},
   "outputs": [
    {
     "data": {
      "text/plain": [
       "3"
      ]
     },
     "execution_count": 11,
     "metadata": {},
     "output_type": "execute_result"
    }
   ],
   "source": [
    "anand.count(2) # it counts, how many times 2 exists in the data"
   ]
  },
  {
   "cell_type": "code",
   "execution_count": 12,
   "id": "4795563c-ed36-4799-9d53-a5600ba8f6d9",
   "metadata": {},
   "outputs": [
    {
     "data": {
      "text/plain": [
       "2"
      ]
     },
     "execution_count": 12,
     "metadata": {},
     "output_type": "execute_result"
    }
   ],
   "source": [
    "anand.index(\"cool\")  # it gives the position of \"cool\" in the data"
   ]
  },
  {
   "cell_type": "code",
   "execution_count": 13,
   "id": "677e2b9f-e72e-44c6-86b1-e8833437b8c7",
   "metadata": {},
   "outputs": [
    {
     "data": {
      "text/plain": [
       "7"
      ]
     },
     "execution_count": 13,
     "metadata": {},
     "output_type": "execute_result"
    }
   ],
   "source": [
    "len(anand) # it gives total length of the data, \n",
    "# how many values are there in the data"
   ]
  },
  {
   "cell_type": "code",
   "execution_count": 14,
   "id": "afdfbc0b-88f9-4daa-8576-354976810c34",
   "metadata": {},
   "outputs": [
    {
     "data": {
      "text/plain": [
       "tuple"
      ]
     },
     "execution_count": 14,
     "metadata": {},
     "output_type": "execute_result"
    }
   ],
   "source": [
    "type(anand) # it checks the type of the data"
   ]
  },
  {
   "cell_type": "markdown",
   "id": "4f21ac27-31bf-4981-9c0e-e93ce64c5b51",
   "metadata": {},
   "source": [
    "Tuple is very small data type. Because of its immutability tuple is mostly used for security purposes."
   ]
  },
  {
   "cell_type": "code",
   "execution_count": null,
   "id": "f8150ae5-04a8-4888-a061-825eab0aa461",
   "metadata": {},
   "outputs": [],
   "source": []
  },
  {
   "cell_type": "code",
   "execution_count": null,
   "id": "c8ceba04-60c1-46be-9795-e78a59f650e3",
   "metadata": {},
   "outputs": [],
   "source": []
  }
 ],
 "metadata": {
  "kernelspec": {
   "display_name": "Python [conda env:base] *",
   "language": "python",
   "name": "conda-base-py"
  },
  "language_info": {
   "codemirror_mode": {
    "name": "ipython",
    "version": 3
   },
   "file_extension": ".py",
   "mimetype": "text/x-python",
   "name": "python",
   "nbconvert_exporter": "python",
   "pygments_lexer": "ipython3",
   "version": "3.13.5"
  },
  "widgets": {
   "application/vnd.jupyter.widget-state+json": {
    "state": {},
    "version_major": 2,
    "version_minor": 0
   }
  }
 },
 "nbformat": 4,
 "nbformat_minor": 5
}
