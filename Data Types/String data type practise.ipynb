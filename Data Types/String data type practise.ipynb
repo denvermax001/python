{
 "cells": [
  {
   "cell_type": "markdown",
   "id": "f10788eb-e331-4077-9f3f-c79ce6be20de",
   "metadata": {},
   "source": [
    "# String"
   ]
  },
  {
   "cell_type": "code",
   "execution_count": 1,
   "id": "23962bc7-0028-405b-bf53-a69f4bdce4a4",
   "metadata": {},
   "outputs": [],
   "source": [
    "vera='my universe'  # single quote string declaration \n",
    "beats=\"interstelllar is a nice place\"  # double quote string declaration "
   ]
  },
  {
   "cell_type": "code",
   "execution_count": 2,
   "id": "8b87f072-a871-4c19-9a27-b3872aaf1db4",
   "metadata": {},
   "outputs": [
    {
     "data": {
      "text/plain": [
       "'i'"
      ]
     },
     "execution_count": 2,
     "metadata": {},
     "output_type": "execute_result"
    }
   ],
   "source": [
    "core=\"its a new beginning\"   # single line string declaration \n",
    "core[0]"
   ]
  },
  {
   "cell_type": "code",
   "execution_count": 3,
   "id": "97e13be9-354d-4dbc-9ed2-5c9f3856fdd3",
   "metadata": {},
   "outputs": [
    {
     "name": "stdout",
     "output_type": "stream",
     "text": [
      "Iam a fool who doesn't know  \n",
      "something was impossible,\n",
      "so i went on to tryit over & over again.\n",
      "And i did it.\n",
      "Then they called a genius\n"
     ]
    }
   ],
   "source": [
    "bold=\"\"\"Iam a fool who doesn't know  \n",
    "something was impossible,\n",
    "so i went on to tryit over & over again.\n",
    "And i did it.\n",
    "Then they called a genius\"\"\"     # Multiple line string declaration\n",
    "\n",
    "print(bold)"
   ]
  },
  {
   "cell_type": "code",
   "execution_count": 4,
   "id": "18a493a9-10b3-4ec5-b38f-1c0420c47dbc",
   "metadata": {},
   "outputs": [
    {
     "data": {
      "text/plain": [
       "'i'"
      ]
     },
     "execution_count": 4,
     "metadata": {},
     "output_type": "execute_result"
    }
   ],
   "source": [
    "solid=\"impossible\"    # In python we have both positive & negative indexing. \n",
    "solid[0]              # In Python indexing always starts from 0 (Positive indexing)\n",
    "                      # Negative indexing starts from -1"
   ]
  },
  {
   "cell_type": "code",
   "execution_count": 5,
   "id": "fb42241c-bd67-4ce9-ae31-192928ea6ead",
   "metadata": {},
   "outputs": [
    {
     "data": {
      "text/plain": [
       "'e'"
      ]
     },
     "execution_count": 5,
     "metadata": {},
     "output_type": "execute_result"
    }
   ],
   "source": [
    "solid[-1]            # Negative indexing"
   ]
  },
  {
   "cell_type": "markdown",
   "id": "f9bf2854-2ccf-444a-82f0-0a0d523e96fd",
   "metadata": {},
   "source": [
    "## Operatins using String"
   ]
  },
  {
   "cell_type": "markdown",
   "id": "ae96661e-ad50-45fc-a326-44d33273f376",
   "metadata": {},
   "source": [
    "### Slicing"
   ]
  },
  {
   "cell_type": "code",
   "execution_count": 6,
   "id": "a94ee262-c7aa-4485-9550-05c755b27b22",
   "metadata": {},
   "outputs": [
    {
     "data": {
      "text/plain": [
       "'s'"
      ]
     },
     "execution_count": 6,
     "metadata": {},
     "output_type": "execute_result"
    }
   ],
   "source": [
    "solid[4]    # we slice the 4th position from the data"
   ]
  },
  {
   "cell_type": "markdown",
   "id": "72a069a1-ff00-4409-ae8f-3c85d3ad3bd3",
   "metadata": {},
   "source": [
    "### Concatination"
   ]
  },
  {
   "cell_type": "code",
   "execution_count": 7,
   "id": "88f6fdf5-6df9-447d-ba88-801c678a4771",
   "metadata": {},
   "outputs": [
    {
     "data": {
      "text/plain": [
       "'nothingisimpossible'"
      ]
     },
     "execution_count": 7,
     "metadata": {},
     "output_type": "execute_result"
    }
   ],
   "source": [
    "door=\"nothing\" \n",
    "window=\"is\"\n",
    "door+window+solid  # Concatination is nothing but ADDING the values"
   ]
  },
  {
   "cell_type": "code",
   "execution_count": 8,
   "id": "cf954e79-51c2-415d-82c0-2c775a153acf",
   "metadata": {},
   "outputs": [
    {
     "data": {
      "text/plain": [
       "'nothing is impossible'"
      ]
     },
     "execution_count": 8,
     "metadata": {},
     "output_type": "execute_result"
    }
   ],
   "source": [
    "door+\" \"+window+\" \"+solid  # with little improvements for better readability. we added \"space\""
   ]
  },
  {
   "cell_type": "markdown",
   "id": "0329262f-a01c-4f57-afcf-15b022a75587",
   "metadata": {},
   "source": [
    "### Repitition"
   ]
  },
  {
   "cell_type": "code",
   "execution_count": 9,
   "id": "59014882-2ce0-427d-acfe-71a07950158c",
   "metadata": {},
   "outputs": [
    {
     "data": {
      "text/plain": [
       "'Obsession Obsession Obsession Obsession Obsession Obsession Obsession Obsession Obsession Obsession Obsession Obsession Obsession Obsession Obsession Obsession Obsession Obsession Obsession Obsession Obsession Obsession Obsession Obsession Obsession Obsession Obsession Obsession Obsession Obsession Obsession Obsession Obsession Obsession Obsession Obsession Obsession Obsession Obsession Obsession Obsession Obsession Obsession Obsession Obsession Obsession Obsession Obsession Obsession Obsession Obsession Obsession Obsession Obsession Obsession Obsession Obsession Obsession Obsession Obsession Obsession Obsession Obsession Obsession Obsession Obsession Obsession Obsession Obsession Obsession Obsession Obsession Obsession Obsession Obsession Obsession Obsession Obsession Obsession Obsession Obsession Obsession Obsession Obsession Obsession Obsession Obsession Obsession Obsession Obsession Obsession Obsession Obsession Obsession Obsession Obsession Obsession Obsession Obsession Obsession '"
      ]
     },
     "execution_count": 9,
     "metadata": {},
     "output_type": "execute_result"
    }
   ],
   "source": [
    "metal=\"Obsession \"\n",
    "metal*100    # it prints metal variable data 100 times"
   ]
  },
  {
   "cell_type": "markdown",
   "id": "9cd90776-69ac-4c6a-8010-a6cf349cf553",
   "metadata": {},
   "source": [
    "## Methods available for strings"
   ]
  },
  {
   "cell_type": "code",
   "execution_count": 10,
   "id": "a0c2c4a4-ec96-4de4-a0ee-8ce04fa6a65b",
   "metadata": {},
   "outputs": [
    {
     "data": {
      "text/plain": [
       "'LENEAR THINKING RESULTS IN COPIES OF PAST PRODUCTS'"
      ]
     },
     "execution_count": 10,
     "metadata": {},
     "output_type": "execute_result"
    }
   ],
   "source": [
    "zodi=\"Lenear thinking results in copies of past products\"\n",
    "zodi.upper()  "
   ]
  },
  {
   "cell_type": "code",
   "execution_count": 11,
   "id": "ff93d059-f154-4f67-9a2a-194722c56c00",
   "metadata": {},
   "outputs": [
    {
     "data": {
      "text/plain": [
       "'lenear thinking results in copies of past products'"
      ]
     },
     "execution_count": 11,
     "metadata": {},
     "output_type": "execute_result"
    }
   ],
   "source": [
    "zodi.lower() "
   ]
  },
  {
   "cell_type": "code",
   "execution_count": 12,
   "id": "c25a59e5-391e-4679-a4cb-5108ad9ddb9d",
   "metadata": {},
   "outputs": [
    {
     "data": {
      "text/plain": [
       "'Lenear thinking results in copies of past products'"
      ]
     },
     "execution_count": 12,
     "metadata": {},
     "output_type": "execute_result"
    }
   ],
   "source": [
    "zodi.capitalize()"
   ]
  },
  {
   "cell_type": "code",
   "execution_count": 13,
   "id": "5b7ca4d3-330f-4614-a998-de33cc7d08a6",
   "metadata": {},
   "outputs": [
    {
     "data": {
      "text/plain": [
       "1"
      ]
     },
     "execution_count": 13,
     "metadata": {},
     "output_type": "execute_result"
    }
   ],
   "source": [
    "zodi.index(\"e\") # index takes only string as argument\n",
    "                # it takes only one argument \n",
    "                # it gives only the first occurence\n",
    "\n",
    "# HINT: Argument is nothing but the things we write in brackets\n",
    "             \n",
    "               # Use only when you know if the sub-string is exists or wants to raise exceptions, \n",
    "               # if it doesnt exists     "
   ]
  },
  {
   "cell_type": "code",
   "execution_count": 15,
   "id": "7428811e-3f6b-4d7b-b29c-52dd6e9f3c30",
   "metadata": {},
   "outputs": [
    {
     "ename": "ValueError",
     "evalue": "substring not found",
     "output_type": "error",
     "traceback": [
      "\u001b[1;31m---------------------------------------------------------------------------\u001b[0m",
      "\u001b[1;31mValueError\u001b[0m                                Traceback (most recent call last)",
      "Cell \u001b[1;32mIn[15], line 1\u001b[0m\n\u001b[1;32m----> 1\u001b[0m zodi\u001b[38;5;241m.\u001b[39mindex(\u001b[38;5;124m\"\u001b[39m\u001b[38;5;124mpython\u001b[39m\u001b[38;5;124m\"\u001b[39m)\n",
      "\u001b[1;31mValueError\u001b[0m: substring not found"
     ]
    }
   ],
   "source": [
    "zodi.index(\"python\")  # we got error becoz \"python\" doesnt exists in the data"
   ]
  },
  {
   "cell_type": "code",
   "execution_count": 16,
   "id": "a8d88766-0751-4ed9-a5b6-78d9a05c7698",
   "metadata": {},
   "outputs": [
    {
     "data": {
      "text/plain": [
       "7"
      ]
     },
     "execution_count": 16,
     "metadata": {},
     "output_type": "execute_result"
    }
   ],
   "source": [
    "zodi.index(\"t\",5)  # Finds position of \"e\" starting from index 5"
   ]
  },
  {
   "cell_type": "code",
   "execution_count": 17,
   "id": "afb98637-34b5-4b8c-a0c5-3d9fc37c7706",
   "metadata": {},
   "outputs": [
    {
     "data": {
      "text/plain": [
       "9"
      ]
     },
     "execution_count": 17,
     "metadata": {},
     "output_type": "execute_result"
    }
   ],
   "source": [
    "zodi.find(\"i\") # use it if you have no idea wheather sub-string exists or not. \n",
    "               # also doesn't want to handle exceptions"
   ]
  },
  {
   "cell_type": "code",
   "execution_count": 18,
   "id": "c5f8279e-0c1b-4694-9fca-1f15beef1c73",
   "metadata": {},
   "outputs": [
    {
     "data": {
      "text/plain": [
       "-1"
      ]
     },
     "execution_count": 18,
     "metadata": {},
     "output_type": "execute_result"
    }
   ],
   "source": [
    "zodi.find(\"python\")  # even though \"python\" doesn't exists it didn't raised error.\n",
    "                     # Instead a simple -1 value for indicating it doesn't exists in the data"
   ]
  },
  {
   "cell_type": "code",
   "execution_count": 19,
   "id": "f9e9c18e-bf1a-4ad8-9c23-49afea26a6b9",
   "metadata": {},
   "outputs": [
    {
     "data": {
      "text/plain": [
       "4"
      ]
     },
     "execution_count": 19,
     "metadata": {},
     "output_type": "execute_result"
    }
   ],
   "source": [
    "zodi.count(\"e\")  # counts how many times \"e\" exists in the data."
   ]
  },
  {
   "cell_type": "markdown",
   "id": "72f7eea7-88cf-4ed7-8cea-4fa4ce2a63b8",
   "metadata": {},
   "source": [
    "## Functions"
   ]
  },
  {
   "cell_type": "code",
   "execution_count": 20,
   "id": "089f9704-545b-419d-b53c-f4551846e3d8",
   "metadata": {},
   "outputs": [
    {
     "data": {
      "text/plain": [
       "50"
      ]
     },
     "execution_count": 20,
     "metadata": {},
     "output_type": "execute_result"
    }
   ],
   "source": [
    "\n",
    "len(zodi)  # calculates total length of the string data\n",
    "\n",
    "# for functions we place the variable name inside the brackets."
   ]
  },
  {
   "cell_type": "code",
   "execution_count": 21,
   "id": "1d24a1c4-b84e-461f-b44a-3d48ebd5c661",
   "metadata": {},
   "outputs": [
    {
     "data": {
      "text/plain": [
       "str"
      ]
     },
     "execution_count": 21,
     "metadata": {},
     "output_type": "execute_result"
    }
   ],
   "source": [
    "type(zodi)  # checks which type of data it contains"
   ]
  },
  {
   "cell_type": "code",
   "execution_count": 22,
   "id": "7ca23976-1924-4844-90d5-a183ecf55dc7",
   "metadata": {},
   "outputs": [],
   "source": [
    "# Other functions:\n",
    "                    # max()\n",
    "                    # min()"
   ]
  },
  {
   "cell_type": "markdown",
   "id": "829d434b-180f-403f-a3a0-828bb14f4839",
   "metadata": {},
   "source": [
    "## String Formatting"
   ]
  },
  {
   "cell_type": "code",
   "execution_count": 23,
   "id": "4e129ac8-22c5-4e9b-8fda-3b524d0b41a0",
   "metadata": {},
   "outputs": [],
   "source": [
    "student_name=\"Anand\"\n",
    "salary=25000\n",
    "company=\"TCS\""
   ]
  },
  {
   "cell_type": "code",
   "execution_count": 24,
   "id": "1991cb2c-d0cc-45bd-b9dc-47bfb24e3047",
   "metadata": {},
   "outputs": [],
   "source": [
    "core_message=\"Congrates (student_name) for getting placed at (company name) with (salary_value) salary\""
   ]
  },
  {
   "cell_type": "markdown",
   "id": "1235bfee-cc49-40cb-88c9-5ded9fa39fc2",
   "metadata": {},
   "source": [
    "### METHOD 1"
   ]
  },
  {
   "cell_type": "code",
   "execution_count": null,
   "id": "fbf24dc1-f0b7-4836-8d28-141bbc99c755",
   "metadata": {},
   "outputs": [],
   "source": [
    "print(\"Congrates %s for getting placed at %s with %i salary\".%(student_name,company,salary))\n",
    "\n",
    "# we got error becoz I placed \"dot\" after string declaration "
   ]
  },
  {
   "cell_type": "code",
   "execution_count": null,
   "id": "b2c788f9-78a2-4fed-a1df-a5761d762119",
   "metadata": {},
   "outputs": [],
   "source": [
    "print(\"Congrates %s for getting placed at %s with %i/- salary.\" %(student_name,company,salary))\n",
    "# after string declaration we should start with \"%\", then open brackets and give variable name \n",
    "\n",
    "# %s refers to string data \n",
    "# %i refers to integer data \n",
    "# #f refers to float data type "
   ]
  },
  {
   "cell_type": "markdown",
   "id": "41dc0486-9c99-49b4-864f-40936612f4ef",
   "metadata": {},
   "source": [
    "### Method 2"
   ]
  },
  {
   "cell_type": "code",
   "execution_count": null,
   "id": "f4f3a961-42a3-43b3-9d00-0d2e3b1807b3",
   "metadata": {},
   "outputs": [],
   "source": [
    "print(f\"Congrates {student_name} for getting placed at {company} with {salary}/- salary.\")"
   ]
  },
  {
   "cell_type": "markdown",
   "id": "5fe20419-163a-4a19-9ca5-0cb6f1adfa25",
   "metadata": {},
   "source": [
    "### Method 3"
   ]
  },
  {
   "cell_type": "code",
   "execution_count": null,
   "id": "8135f38f-997b-47bd-ba36-4601600853dc",
   "metadata": {},
   "outputs": [],
   "source": [
    "print(\"Congrates {} for getting placed at {} with {}/- salary.\".format(student_name,company,salary))"
   ]
  },
  {
   "cell_type": "markdown",
   "id": "89a761f5-d738-4cb7-a6bb-10ee521be024",
   "metadata": {},
   "source": [
    "## Escaping & Raw String"
   ]
  },
  {
   "cell_type": "code",
   "execution_count": null,
   "id": "9cefdd2d-94a3-42b5-9167-a16b0e4722a3",
   "metadata": {},
   "outputs": [],
   "source": [
    "print(\"Find complex problems, \\nAnd make your solution so simple, \\nit just works\")\n",
    "# its an example for Escaping\n",
    "# we modify the text with separate lines using backward slash and n as (\\n) \n",
    "# for better readability."
   ]
  },
  {
   "cell_type": "code",
   "execution_count": null,
   "id": "794b1813-a908-4d26-8853-4ce588dccb15",
   "metadata": {},
   "outputs": [],
   "source": [
    "print(r\"Find complex problems, \\nAnd make your solution so simple, \\nit just works\")\n",
    "# example for rawstring.\n",
    "# we can view the text as it is by placing \"r\" at start of string declaration.\n",
    "# for better understanding & research purposes."
   ]
  },
  {
   "cell_type": "code",
   "execution_count": null,
   "id": "86ff9958-5110-4213-9ce8-145718c18833",
   "metadata": {},
   "outputs": [],
   "source": []
  }
 ],
 "metadata": {
  "kernelspec": {
   "display_name": "Python [conda env:base] *",
   "language": "python",
   "name": "conda-base-py"
  },
  "language_info": {
   "codemirror_mode": {
    "name": "ipython",
    "version": 3
   },
   "file_extension": ".py",
   "mimetype": "text/x-python",
   "name": "python",
   "nbconvert_exporter": "python",
   "pygments_lexer": "ipython3",
   "version": "3.13.5"
  },
  "widgets": {
   "application/vnd.jupyter.widget-state+json": {
    "state": {},
    "version_major": 2,
    "version_minor": 0
   }
  }
 },
 "nbformat": 4,
 "nbformat_minor": 5
}
