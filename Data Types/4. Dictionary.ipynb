{
 "cells": [
  {
   "cell_type": "code",
   "execution_count": 1,
   "id": "6424148f-aeea-4100-871f-f37b550d5c6e",
   "metadata": {},
   "outputs": [
    {
     "data": {
      "text/plain": [
       "{2: 18, 'hi': 89, 'hero': 'doctor', 65: 100}"
      ]
     },
     "execution_count": 1,
     "metadata": {},
     "output_type": "execute_result"
    }
   ],
   "source": [
    "anand={2:18,\"hi\":89,\"hero\":\"doctor\",65:100}\n",
    "anand    # dict doesn't have any order(indexing). \n",
    "\n",
    "# it has only keys & values."
   ]
  },
  {
   "cell_type": "code",
   "execution_count": 2,
   "id": "f189fe5f-009e-43cc-9d4c-b9b915054897",
   "metadata": {},
   "outputs": [
    {
     "data": {
      "text/plain": [
       "dict"
      ]
     },
     "execution_count": 2,
     "metadata": {},
     "output_type": "execute_result"
    }
   ],
   "source": [
    "type(anand)"
   ]
  },
  {
   "cell_type": "code",
   "execution_count": 15,
   "id": "81436ab8-f9bb-491d-a45c-f11823ef2fa4",
   "metadata": {},
   "outputs": [
    {
     "data": {
      "text/plain": [
       "dict_keys([2, 'hi', 'hero', 65])"
      ]
     },
     "execution_count": 15,
     "metadata": {},
     "output_type": "execute_result"
    }
   ],
   "source": [
    "anand.keys()"
   ]
  },
  {
   "cell_type": "code",
   "execution_count": 16,
   "id": "ed16a98c-f6d4-4e83-a08e-b65429e617c9",
   "metadata": {},
   "outputs": [
    {
     "data": {
      "text/plain": [
       "dict_values([18, 89, 'doctor', 100])"
      ]
     },
     "execution_count": 16,
     "metadata": {},
     "output_type": "execute_result"
    }
   ],
   "source": [
    "anand.values()"
   ]
  },
  {
   "cell_type": "code",
   "execution_count": 17,
   "id": "48b4c095-0ec8-4def-9aa1-5a99faadfea9",
   "metadata": {},
   "outputs": [
    {
     "data": {
      "text/plain": [
       "18"
      ]
     },
     "execution_count": 17,
     "metadata": {},
     "output_type": "execute_result"
    }
   ],
   "source": [
    "anand.get(2)"
   ]
  },
  {
   "cell_type": "code",
   "execution_count": 19,
   "id": "cd5afcb8-341e-43bc-a18a-3811f255b8f5",
   "metadata": {},
   "outputs": [
    {
     "data": {
      "text/plain": [
       "{'h': None, 'i': None}"
      ]
     },
     "execution_count": 19,
     "metadata": {},
     "output_type": "execute_result"
    }
   ],
   "source": [
    "anand.fromkeys(\"hi\")"
   ]
  },
  {
   "cell_type": "code",
   "execution_count": 20,
   "id": "2261648e-ec2e-4334-a262-bdc52320d1d6",
   "metadata": {},
   "outputs": [
    {
     "data": {
      "text/plain": [
       "{'employees': None, 'salary': None}"
      ]
     },
     "execution_count": 20,
     "metadata": {},
     "output_type": "execute_result"
    }
   ],
   "source": [
    "t1=(\"employees\",\"salary\")\n",
    "t2={} # dictionary\n",
    "t2.fromkeys(t1)"
   ]
  },
  {
   "cell_type": "code",
   "execution_count": 23,
   "id": "9e900384-623b-4b5e-97a8-5ef3cb1a3db1",
   "metadata": {},
   "outputs": [],
   "source": [
    "t2[\"employees\"]=\"chandu\"\n",
    "t2[\"salary\"]=1200"
   ]
  },
  {
   "cell_type": "code",
   "execution_count": 24,
   "id": "0620387e-b68e-4a60-989d-49eacd002946",
   "metadata": {},
   "outputs": [
    {
     "data": {
      "text/plain": [
       "{'employees': 'chandu', 'salary': 1200}"
      ]
     },
     "execution_count": 24,
     "metadata": {},
     "output_type": "execute_result"
    }
   ],
   "source": [
    "t2"
   ]
  },
  {
   "cell_type": "code",
   "execution_count": 25,
   "id": "9795107d-5411-4925-a4aa-b9650d45cd10",
   "metadata": {},
   "outputs": [
    {
     "data": {
      "text/plain": [
       "dict"
      ]
     },
     "execution_count": 25,
     "metadata": {},
     "output_type": "execute_result"
    }
   ],
   "source": [
    "skill={}\n",
    "type(skill)"
   ]
  },
  {
   "cell_type": "code",
   "execution_count": 26,
   "id": "9bfd1b5b-0931-4c56-913b-5388a0922b6c",
   "metadata": {},
   "outputs": [],
   "source": [
    "skill[\"product\"]=[\"pens\",\"eraser\",\"plank\"]\n",
    "skill[\"sales\"]=[10000,1400,2000]\n",
    "skill[\"profit\"]=[6000,540,1500]"
   ]
  },
  {
   "cell_type": "code",
   "execution_count": 27,
   "id": "423d2333-5b29-41da-a9af-6f6f5f81b553",
   "metadata": {},
   "outputs": [
    {
     "data": {
      "text/plain": [
       "{'product': ['pens', 'eraser', 'plank'],\n",
       " 'sales': [10000, 1400, 2000],\n",
       " 'profit': [6000, 540, 1500]}"
      ]
     },
     "execution_count": 27,
     "metadata": {},
     "output_type": "execute_result"
    }
   ],
   "source": [
    "skill"
   ]
  },
  {
   "cell_type": "code",
   "execution_count": 28,
   "id": "bdbc7fb2-7f01-4cf5-b48a-8d4c9ed69d59",
   "metadata": {},
   "outputs": [],
   "source": [
    "import pandas"
   ]
  },
  {
   "cell_type": "code",
   "execution_count": 29,
   "id": "2b1e7997-0ac5-42c7-820b-77b27a80ef67",
   "metadata": {},
   "outputs": [
    {
     "data": {
      "text/html": [
       "<div>\n",
       "<style scoped>\n",
       "    .dataframe tbody tr th:only-of-type {\n",
       "        vertical-align: middle;\n",
       "    }\n",
       "\n",
       "    .dataframe tbody tr th {\n",
       "        vertical-align: top;\n",
       "    }\n",
       "\n",
       "    .dataframe thead th {\n",
       "        text-align: right;\n",
       "    }\n",
       "</style>\n",
       "<table border=\"1\" class=\"dataframe\">\n",
       "  <thead>\n",
       "    <tr style=\"text-align: right;\">\n",
       "      <th></th>\n",
       "      <th>product</th>\n",
       "      <th>sales</th>\n",
       "      <th>profit</th>\n",
       "    </tr>\n",
       "  </thead>\n",
       "  <tbody>\n",
       "    <tr>\n",
       "      <th>0</th>\n",
       "      <td>pens</td>\n",
       "      <td>10000</td>\n",
       "      <td>6000</td>\n",
       "    </tr>\n",
       "    <tr>\n",
       "      <th>1</th>\n",
       "      <td>eraser</td>\n",
       "      <td>1400</td>\n",
       "      <td>540</td>\n",
       "    </tr>\n",
       "    <tr>\n",
       "      <th>2</th>\n",
       "      <td>plank</td>\n",
       "      <td>2000</td>\n",
       "      <td>1500</td>\n",
       "    </tr>\n",
       "  </tbody>\n",
       "</table>\n",
       "</div>"
      ],
      "text/plain": [
       "  product  sales  profit\n",
       "0    pens  10000    6000\n",
       "1  eraser   1400     540\n",
       "2   plank   2000    1500"
      ]
     },
     "execution_count": 29,
     "metadata": {},
     "output_type": "execute_result"
    }
   ],
   "source": [
    "pandas.DataFrame(skill)"
   ]
  },
  {
   "cell_type": "code",
   "execution_count": 31,
   "id": "d998df05-6b1a-489d-99ba-5846e1c2eed4",
   "metadata": {},
   "outputs": [
    {
     "data": {
      "text/plain": [
       "dict_keys(['product', 'sales', 'profit'])"
      ]
     },
     "execution_count": 31,
     "metadata": {},
     "output_type": "execute_result"
    }
   ],
   "source": [
    "skill.keys()"
   ]
  },
  {
   "cell_type": "code",
   "execution_count": 32,
   "id": "009ae578-a25b-4727-ac2e-1855ad2f2267",
   "metadata": {},
   "outputs": [
    {
     "data": {
      "text/plain": [
       "dict_values([['pens', 'eraser', 'plank'], [10000, 1400, 2000], [6000, 540, 1500]])"
      ]
     },
     "execution_count": 32,
     "metadata": {},
     "output_type": "execute_result"
    }
   ],
   "source": [
    "skill.values()"
   ]
  },
  {
   "cell_type": "code",
   "execution_count": 3,
   "id": "061fba3f-3808-43c0-84b5-c3d3ea038c6c",
   "metadata": {},
   "outputs": [
    {
     "data": {
      "text/plain": [
       "dict_keys([2, 'hi', 'hero', 65])"
      ]
     },
     "execution_count": 3,
     "metadata": {},
     "output_type": "execute_result"
    }
   ],
   "source": [
    "anand.keys()   # it  gives all available keys in the dictionary"
   ]
  },
  {
   "cell_type": "code",
   "execution_count": 4,
   "id": "b1f14af4-60f6-479f-95f5-28f375dcd01a",
   "metadata": {},
   "outputs": [
    {
     "data": {
      "text/plain": [
       "dict_values([18, 89, 'doctor', 100])"
      ]
     },
     "execution_count": 4,
     "metadata": {},
     "output_type": "execute_result"
    }
   ],
   "source": [
    "anand.values()   #it gives list of values"
   ]
  },
  {
   "cell_type": "code",
   "execution_count": 5,
   "id": "7cd64c7f-5772-43a9-9320-f65f2df6995f",
   "metadata": {},
   "outputs": [
    {
     "data": {
      "text/plain": [
       "{'c': None, 'o': None, 'l': None, 'd': None}"
      ]
     },
     "execution_count": 5,
     "metadata": {},
     "output_type": "execute_result"
    }
   ],
   "source": [
    "anand.fromkeys(\"cold\")"
   ]
  },
  {
   "cell_type": "code",
   "execution_count": 6,
   "id": "2fa2d06b-4649-4d48-bfb1-ed338076b6de",
   "metadata": {},
   "outputs": [
    {
     "data": {
      "text/plain": [
       "18"
      ]
     },
     "execution_count": 6,
     "metadata": {},
     "output_type": "execute_result"
    }
   ],
   "source": [
    "anand.get(2)"
   ]
  },
  {
   "cell_type": "code",
   "execution_count": 7,
   "id": "6c57e199-6e13-4677-90a7-540ed6785775",
   "metadata": {},
   "outputs": [
    {
     "data": {
      "text/plain": [
       "<function dict.update>"
      ]
     },
     "execution_count": 7,
     "metadata": {},
     "output_type": "execute_result"
    }
   ],
   "source": [
    "anand.update"
   ]
  },
  {
   "cell_type": "code",
   "execution_count": null,
   "id": "817a0376-29e5-4fbb-b877-d16fa601e665",
   "metadata": {},
   "outputs": [],
   "source": []
  },
  {
   "cell_type": "code",
   "execution_count": 8,
   "id": "d560057e-79d4-4986-ad34-fc468528e016",
   "metadata": {},
   "outputs": [],
   "source": [
    "nazi={}"
   ]
  },
  {
   "cell_type": "code",
   "execution_count": 9,
   "id": "b105e83e-1315-41ba-a57c-94459158f0b9",
   "metadata": {},
   "outputs": [],
   "source": [
    "nazi[\"name\"]=[\"sharon\",\"nazeera\"]\n",
    "nazi[\"class\"]=[\"java script\",\"python\"]\n",
    "nazi[\"marks\"]=[78,94]"
   ]
  },
  {
   "cell_type": "code",
   "execution_count": 10,
   "id": "142654c2-0903-47e0-9f17-e8761f24d157",
   "metadata": {},
   "outputs": [
    {
     "data": {
      "text/plain": [
       "{'name': ['sharon', 'nazeera'],\n",
       " 'class': ['java script', 'python'],\n",
       " 'marks': [78, 94]}"
      ]
     },
     "execution_count": 10,
     "metadata": {},
     "output_type": "execute_result"
    }
   ],
   "source": [
    "nazi"
   ]
  },
  {
   "cell_type": "code",
   "execution_count": 11,
   "id": "f873d07d-bdd8-45a8-a8ac-a22e756a625f",
   "metadata": {},
   "outputs": [],
   "source": [
    "import pandas as pd \n",
    "df=pd.DataFrame(nazi)"
   ]
  },
  {
   "cell_type": "code",
   "execution_count": 12,
   "id": "c4c92eed-7d96-4a69-a158-29fc0da6547e",
   "metadata": {},
   "outputs": [
    {
     "data": {
      "text/html": [
       "<div>\n",
       "<style scoped>\n",
       "    .dataframe tbody tr th:only-of-type {\n",
       "        vertical-align: middle;\n",
       "    }\n",
       "\n",
       "    .dataframe tbody tr th {\n",
       "        vertical-align: top;\n",
       "    }\n",
       "\n",
       "    .dataframe thead th {\n",
       "        text-align: right;\n",
       "    }\n",
       "</style>\n",
       "<table border=\"1\" class=\"dataframe\">\n",
       "  <thead>\n",
       "    <tr style=\"text-align: right;\">\n",
       "      <th></th>\n",
       "      <th>name</th>\n",
       "      <th>class</th>\n",
       "      <th>marks</th>\n",
       "    </tr>\n",
       "  </thead>\n",
       "  <tbody>\n",
       "    <tr>\n",
       "      <th>0</th>\n",
       "      <td>sharon</td>\n",
       "      <td>java script</td>\n",
       "      <td>78</td>\n",
       "    </tr>\n",
       "    <tr>\n",
       "      <th>1</th>\n",
       "      <td>nazeera</td>\n",
       "      <td>python</td>\n",
       "      <td>94</td>\n",
       "    </tr>\n",
       "  </tbody>\n",
       "</table>\n",
       "</div>"
      ],
      "text/plain": [
       "      name        class  marks\n",
       "0   sharon  java script     78\n",
       "1  nazeera       python     94"
      ]
     },
     "execution_count": 12,
     "metadata": {},
     "output_type": "execute_result"
    }
   ],
   "source": [
    "df               # in data science everything we deal with table. \n",
    "           # table is a collection of keys and values.\n",
    "\n",
    "\n",
    "# Technically speaking, table is a combination of Dictionary and List."
   ]
  },
  {
   "cell_type": "code",
   "execution_count": 13,
   "id": "a452c8b5-1e4d-4da2-b777-7d9ca9bb8391",
   "metadata": {},
   "outputs": [
    {
     "data": {
      "text/plain": [
       "Index(['name', 'class', 'marks'], dtype='object')"
      ]
     },
     "execution_count": 13,
     "metadata": {},
     "output_type": "execute_result"
    }
   ],
   "source": [
    "df.keys()"
   ]
  },
  {
   "cell_type": "code",
   "execution_count": 14,
   "id": "3d8e1d18-40dd-4fd1-a095-9e14329dbae3",
   "metadata": {},
   "outputs": [
    {
     "data": {
      "text/plain": [
       "Index(['name', 'class', 'marks'], dtype='object')"
      ]
     },
     "execution_count": 14,
     "metadata": {},
     "output_type": "execute_result"
    }
   ],
   "source": [
    "df.columns"
   ]
  },
  {
   "cell_type": "code",
   "execution_count": 35,
   "id": "c55a87d1-b843-4a45-ad3a-732f993d3bc5",
   "metadata": {},
   "outputs": [
    {
     "data": {
      "text/plain": [
       "dict"
      ]
     },
     "execution_count": 35,
     "metadata": {},
     "output_type": "execute_result"
    }
   ],
   "source": [
    "company={}\n",
    "type(company)"
   ]
  },
  {
   "cell_type": "code",
   "execution_count": 39,
   "id": "2293b654-5e7e-4938-a8b7-9b25520f6817",
   "metadata": {},
   "outputs": [],
   "source": [
    "company[\"employee\"]=[\"haryy\",\"jhon\",\"ron\",\"tony\"]\n",
    "company[\"salary\"]=[40000,25000,55000,30000]\n",
    "company[\"Work_hours\"]=[8,6,7,8]"
   ]
  },
  {
   "cell_type": "code",
   "execution_count": 46,
   "id": "ee0c9dd9-8ea8-4634-a814-3a5c29a56812",
   "metadata": {},
   "outputs": [
    {
     "data": {
      "text/plain": [
       "{'employee': ['haryy', 'jhon', 'ron', 'tony'],\n",
       " 'salaryr': [40000, 25000, 55000, 30000],\n",
       " 'Work_hours': [8, 6, 7, 8],\n",
       " 'salary': [40000, 25000, 55000, 30000]}"
      ]
     },
     "execution_count": 46,
     "metadata": {},
     "output_type": "execute_result"
    }
   ],
   "source": [
    "company"
   ]
  },
  {
   "cell_type": "code",
   "execution_count": 40,
   "id": "18cfa8f1-6f64-4fd5-b5ff-3867875ce562",
   "metadata": {},
   "outputs": [
    {
     "data": {
      "text/html": [
       "<div>\n",
       "<style scoped>\n",
       "    .dataframe tbody tr th:only-of-type {\n",
       "        vertical-align: middle;\n",
       "    }\n",
       "\n",
       "    .dataframe tbody tr th {\n",
       "        vertical-align: top;\n",
       "    }\n",
       "\n",
       "    .dataframe thead th {\n",
       "        text-align: right;\n",
       "    }\n",
       "</style>\n",
       "<table border=\"1\" class=\"dataframe\">\n",
       "  <thead>\n",
       "    <tr style=\"text-align: right;\">\n",
       "      <th></th>\n",
       "      <th>employee</th>\n",
       "      <th>salaryr</th>\n",
       "      <th>Work_hours</th>\n",
       "      <th>salary</th>\n",
       "    </tr>\n",
       "  </thead>\n",
       "  <tbody>\n",
       "    <tr>\n",
       "      <th>0</th>\n",
       "      <td>haryy</td>\n",
       "      <td>40000</td>\n",
       "      <td>8</td>\n",
       "      <td>40000</td>\n",
       "    </tr>\n",
       "    <tr>\n",
       "      <th>1</th>\n",
       "      <td>jhon</td>\n",
       "      <td>25000</td>\n",
       "      <td>6</td>\n",
       "      <td>25000</td>\n",
       "    </tr>\n",
       "    <tr>\n",
       "      <th>2</th>\n",
       "      <td>ron</td>\n",
       "      <td>55000</td>\n",
       "      <td>7</td>\n",
       "      <td>55000</td>\n",
       "    </tr>\n",
       "    <tr>\n",
       "      <th>3</th>\n",
       "      <td>tony</td>\n",
       "      <td>30000</td>\n",
       "      <td>8</td>\n",
       "      <td>30000</td>\n",
       "    </tr>\n",
       "  </tbody>\n",
       "</table>\n",
       "</div>"
      ],
      "text/plain": [
       "  employee  salaryr  Work_hours  salary\n",
       "0    haryy    40000           8   40000\n",
       "1     jhon    25000           6   25000\n",
       "2      ron    55000           7   55000\n",
       "3     tony    30000           8   30000"
      ]
     },
     "execution_count": 40,
     "metadata": {},
     "output_type": "execute_result"
    }
   ],
   "source": [
    "import pandas\n",
    "pandas.DataFrame(company)"
   ]
  },
  {
   "cell_type": "code",
   "execution_count": 42,
   "id": "313c24f6-a63b-43f5-903c-15e745f463af",
   "metadata": {},
   "outputs": [
    {
     "data": {
      "text/plain": [
       "dict_keys(['employee', 'salaryr', 'Work_hours', 'salary'])"
      ]
     },
     "execution_count": 42,
     "metadata": {},
     "output_type": "execute_result"
    }
   ],
   "source": [
    "company.keys()"
   ]
  },
  {
   "cell_type": "code",
   "execution_count": 43,
   "id": "babfd925-5340-42db-9039-a431b4b675ef",
   "metadata": {},
   "outputs": [
    {
     "data": {
      "text/plain": [
       "dict_values([['haryy', 'jhon', 'ron', 'tony'], [40000, 25000, 55000, 30000], [8, 6, 7, 8], [40000, 25000, 55000, 30000]])"
      ]
     },
     "execution_count": 43,
     "metadata": {},
     "output_type": "execute_result"
    }
   ],
   "source": [
    "company.values()"
   ]
  },
  {
   "cell_type": "code",
   "execution_count": 45,
   "id": "fdeea411-e32b-4ce3-ab4f-0b84982779df",
   "metadata": {},
   "outputs": [
    {
     "data": {
      "text/plain": [
       "dict_items([('employee', ['haryy', 'jhon', 'ron', 'tony']), ('salaryr', [40000, 25000, 55000, 30000]), ('Work_hours', [8, 6, 7, 8]), ('salary', [40000, 25000, 55000, 30000])])"
      ]
     },
     "execution_count": 45,
     "metadata": {},
     "output_type": "execute_result"
    }
   ],
   "source": [
    "company.items()"
   ]
  },
  {
   "cell_type": "code",
   "execution_count": null,
   "id": "22caa5c5-39ff-4a54-85e3-ede6c7c18e56",
   "metadata": {},
   "outputs": [],
   "source": []
  }
 ],
 "metadata": {
  "kernelspec": {
   "display_name": "Python [conda env:base] *",
   "language": "python",
   "name": "conda-base-py"
  },
  "language_info": {
   "codemirror_mode": {
    "name": "ipython",
    "version": 3
   },
   "file_extension": ".py",
   "mimetype": "text/x-python",
   "name": "python",
   "nbconvert_exporter": "python",
   "pygments_lexer": "ipython3",
   "version": "3.13.5"
  },
  "widgets": {
   "application/vnd.jupyter.widget-state+json": {
    "state": {},
    "version_major": 2,
    "version_minor": 0
   }
  }
 },
 "nbformat": 4,
 "nbformat_minor": 5
}
