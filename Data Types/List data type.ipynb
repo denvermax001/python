{
 "cells": [
  {
   "cell_type": "markdown",
   "id": "b79a1293-fd2c-4e8a-8ebf-3e18ade820d7",
   "metadata": {},
   "source": [
    "# List data type\n",
    "\n",
    "Mutable & Ordered data type"
   ]
  },
  {
   "cell_type": "code",
   "execution_count": 59,
   "id": "7e6bdb62-6ad1-411c-9bc6-abdda8d1f2f1",
   "metadata": {},
   "outputs": [
    {
     "data": {
      "text/plain": [
       "2"
      ]
     },
     "execution_count": 59,
     "metadata": {},
     "output_type": "execute_result"
    }
   ],
   "source": [
    "core=[2,90,9.87,2,5,6,80,6]\n",
    "core[3]  # it gives(slicing) 3rd position in the data"
   ]
  },
  {
   "cell_type": "code",
   "execution_count": 60,
   "id": "0d7cbd2e-3caf-4fbc-a1ee-6f3cdcdc1a43",
   "metadata": {},
   "outputs": [
    {
     "data": {
      "text/plain": [
       "[9.87, 2, 5]"
      ]
     },
     "execution_count": 60,
     "metadata": {},
     "output_type": "execute_result"
    }
   ],
   "source": [
    "core[2:5] \n",
    "# it gives positions start from 2 to 4, becoz python ignores last position.\n",
    "# in this case 5 is ignored."
   ]
  },
  {
   "cell_type": "code",
   "execution_count": 61,
   "id": "418f14bf-b16f-47db-af2a-3a8a1a6c5659",
   "metadata": {},
   "outputs": [
    {
     "data": {
      "text/plain": [
       "[90, 9.87, 2, 5, 6, 80, 6]"
      ]
     },
     "execution_count": 61,
     "metadata": {},
     "output_type": "execute_result"
    }
   ],
   "source": [
    "core[1:]\n",
    "# it gives positions from 1 to till the end."
   ]
  },
  {
   "cell_type": "code",
   "execution_count": 62,
   "id": "9374b409-c50e-4dde-85b9-2f469bf781fa",
   "metadata": {},
   "outputs": [
    {
     "data": {
      "text/plain": [
       "[2, 90, 9.87, 2, 5, 6, 80]"
      ]
     },
     "execution_count": 62,
     "metadata": {},
     "output_type": "execute_result"
    }
   ],
   "source": [
    "core[:-1]\n",
    "# it gives from the start to -2 position, \n",
    "# as last position got ignored, in this case -1 got ignored."
   ]
  },
  {
   "cell_type": "code",
   "execution_count": 63,
   "id": "490a1954-71ce-4ace-915a-17b67ba62da3",
   "metadata": {},
   "outputs": [
    {
     "data": {
      "text/plain": [
       "[6, 80, 6, 5, 2, 9.87, 90, 2]"
      ]
     },
     "execution_count": 63,
     "metadata": {},
     "output_type": "execute_result"
    }
   ],
   "source": [
    "core[: :-1] \n",
    "# 1st semi-colun before & after emptyness refers to complete data, without lossing any positions. \n",
    "# 2nd semi-colun is for adding arguments. \n",
    "# we passed \"-1\", it means printing should start from -1 position. "
   ]
  },
  {
   "cell_type": "markdown",
   "id": "c9cc2d3e-8560-4703-b41c-1c42b5c77859",
   "metadata": {},
   "source": [
    "## Concatination & Repetition"
   ]
  },
  {
   "cell_type": "code",
   "execution_count": 64,
   "id": "8d7a35c6-87ed-474d-893b-3bf7840a4b78",
   "metadata": {},
   "outputs": [
    {
     "data": {
      "text/plain": [
       "[2, 90, 9.87, 2, 5, 6, 80, 6, 4, 89, 22, 38, 6.94]"
      ]
     },
     "execution_count": 64,
     "metadata": {},
     "output_type": "execute_result"
    }
   ],
   "source": [
    "click=[4,89,22,38,6.94]\n",
    "core+click         # it combined core & click"
   ]
  },
  {
   "cell_type": "code",
   "execution_count": 65,
   "id": "8c22e004-284a-4eed-8b22-5aa75faef997",
   "metadata": {},
   "outputs": [
    {
     "data": {
      "text/plain": [
       "[2,\n",
       " 90,\n",
       " 9.87,\n",
       " 2,\n",
       " 5,\n",
       " 6,\n",
       " 80,\n",
       " 6,\n",
       " 2,\n",
       " 90,\n",
       " 9.87,\n",
       " 2,\n",
       " 5,\n",
       " 6,\n",
       " 80,\n",
       " 6,\n",
       " 2,\n",
       " 90,\n",
       " 9.87,\n",
       " 2,\n",
       " 5,\n",
       " 6,\n",
       " 80,\n",
       " 6]"
      ]
     },
     "execution_count": 65,
     "metadata": {},
     "output_type": "execute_result"
    }
   ],
   "source": [
    "core*3  # it repeats the data in 3 times"
   ]
  },
  {
   "cell_type": "markdown",
   "id": "60c60e36-bce2-4f64-8eb5-1f5780746b87",
   "metadata": {},
   "source": [
    "## Method"
   ]
  },
  {
   "cell_type": "code",
   "execution_count": 66,
   "id": "6d45c4bd-5f88-4a1b-b161-cfa67a94f5bf",
   "metadata": {},
   "outputs": [
    {
     "data": {
      "text/plain": [
       "2"
      ]
     },
     "execution_count": 66,
     "metadata": {},
     "output_type": "execute_result"
    }
   ],
   "source": [
    "core.count(2) # it counts, how many times 2 exists in the data"
   ]
  },
  {
   "cell_type": "code",
   "execution_count": 67,
   "id": "311e9bf7-d98b-4b99-94a3-e19fc7971a97",
   "metadata": {},
   "outputs": [
    {
     "data": {
      "text/plain": [
       "6"
      ]
     },
     "execution_count": 67,
     "metadata": {},
     "output_type": "execute_result"
    }
   ],
   "source": [
    "core.index(80) # it gives the position of 80 in the data"
   ]
  },
  {
   "cell_type": "code",
   "execution_count": 68,
   "id": "174cb8a7-7a32-4aa9-89df-cb5332f84698",
   "metadata": {},
   "outputs": [],
   "source": [
    "core.append(300) # it adds given value in the last position.\n"
   ]
  },
  {
   "cell_type": "code",
   "execution_count": 69,
   "id": "bd89915d-cde9-4294-8048-39c4048dff6e",
   "metadata": {},
   "outputs": [
    {
     "data": {
      "text/plain": [
       "[2, 90, 9.87, 2, 5, 6, 80, 6, 300]"
      ]
     },
     "execution_count": 69,
     "metadata": {},
     "output_type": "execute_result"
    }
   ],
   "source": [
    "core"
   ]
  },
  {
   "cell_type": "code",
   "execution_count": 70,
   "id": "279cbd0b-bc0f-4c13-b53c-0d740dbfd5a2",
   "metadata": {},
   "outputs": [],
   "source": [
    "core.insert(2,51) \n",
    "# it inserts the value whenver position we specifies. \n",
    "# inside brackets 1st element (2) is the posotion we wants to add the value \n",
    "# 51 is the value we wants insert in the data"
   ]
  },
  {
   "cell_type": "code",
   "execution_count": 71,
   "id": "eb829529-fa6c-4d92-85c6-0c61eee88be4",
   "metadata": {},
   "outputs": [
    {
     "data": {
      "text/plain": [
       "[2, 90, 51, 9.87, 2, 5, 6, 80, 6, 300]"
      ]
     },
     "execution_count": 71,
     "metadata": {},
     "output_type": "execute_result"
    }
   ],
   "source": [
    "core"
   ]
  },
  {
   "cell_type": "code",
   "execution_count": 72,
   "id": "8a9d9487-ed90-4e4e-ba16-0357bf95785a",
   "metadata": {},
   "outputs": [
    {
     "data": {
      "text/plain": [
       "[23, 90, 76, 36, 6, 72, 10, 6]"
      ]
     },
     "execution_count": 72,
     "metadata": {},
     "output_type": "execute_result"
    }
   ],
   "source": [
    "mall=[23,90,76,36,6,72,10,6]\n",
    "mall"
   ]
  },
  {
   "cell_type": "code",
   "execution_count": 73,
   "id": "0d78b374-7fad-4b7f-b32f-95207033edb5",
   "metadata": {},
   "outputs": [],
   "source": [
    "mall.remove(6) # it removes the 1st occurence of given value (6) \n",
    "#in our case it removed 1st 6. "
   ]
  },
  {
   "cell_type": "code",
   "execution_count": 74,
   "id": "b7b7347a-f3d5-4d0e-bc1b-ec4b9038cc75",
   "metadata": {},
   "outputs": [
    {
     "data": {
      "text/plain": [
       "[23, 90, 76, 36, 72, 10, 6]"
      ]
     },
     "execution_count": 74,
     "metadata": {},
     "output_type": "execute_result"
    }
   ],
   "source": [
    "mall"
   ]
  },
  {
   "cell_type": "code",
   "execution_count": 75,
   "id": "cb9ab73b-bd27-4455-aa83-f6090b53b92c",
   "metadata": {},
   "outputs": [],
   "source": [
    "# if we run \"mall.remove(6)\" again & again it removes all available 6 in the data,\n",
    "# if 6 no longer exists in the data it will show error sating 6 doesnt exists in the data."
   ]
  },
  {
   "cell_type": "code",
   "execution_count": 76,
   "id": "566f1a75-1ce0-445e-a304-adef225d9863",
   "metadata": {},
   "outputs": [
    {
     "data": {
      "text/plain": [
       "[23, 90, 76, 36, 72, 10]"
      ]
     },
     "execution_count": 76,
     "metadata": {},
     "output_type": "execute_result"
    }
   ],
   "source": [
    "mall.remove(6) # here iam running it again to check wheather it shows error after deleting all 6 values\n",
    "mall  \n",
    "# okk, we can trust python, because it shown error after we asked to delete 6, even though it no-longer exists."
   ]
  },
  {
   "cell_type": "code",
   "execution_count": 77,
   "id": "fd0c6edc-266c-44e5-b4b0-08ba81a573b1",
   "metadata": {},
   "outputs": [
    {
     "data": {
      "text/plain": [
       "[23, 90, 76, 36, 72, 10]"
      ]
     },
     "execution_count": 77,
     "metadata": {},
     "output_type": "execute_result"
    }
   ],
   "source": [
    "mall"
   ]
  },
  {
   "cell_type": "code",
   "execution_count": 78,
   "id": "238b821d-20e9-48c9-acdf-04ccc8079aa6",
   "metadata": {},
   "outputs": [
    {
     "data": {
      "text/plain": [
       "90"
      ]
     },
     "execution_count": 78,
     "metadata": {},
     "output_type": "execute_result"
    }
   ],
   "source": [
    "mall.pop(1) # it removes the value in the specified (1st) posistion. "
   ]
  },
  {
   "cell_type": "code",
   "execution_count": 79,
   "id": "1515831a-6cdf-413e-8ed1-3d9a6abbf236",
   "metadata": {},
   "outputs": [
    {
     "data": {
      "text/plain": [
       "[23, 76, 36, 72, 10]"
      ]
     },
     "execution_count": 79,
     "metadata": {},
     "output_type": "execute_result"
    }
   ],
   "source": [
    "mall  # we can see 90 is no-longer exists in the data."
   ]
  },
  {
   "cell_type": "code",
   "execution_count": 80,
   "id": "b55b5fa9-7262-405e-a480-3c485cba94b4",
   "metadata": {},
   "outputs": [],
   "source": [
    "mall.clear() # it removes all the data in the list"
   ]
  },
  {
   "cell_type": "code",
   "execution_count": 81,
   "id": "40ea521d-ce5a-46d5-bc34-22170670e8d2",
   "metadata": {},
   "outputs": [
    {
     "data": {
      "text/plain": [
       "[]"
      ]
     },
     "execution_count": 81,
     "metadata": {},
     "output_type": "execute_result"
    }
   ],
   "source": [
    "mall  # now it becomes empty, as we cleared everything. "
   ]
  },
  {
   "cell_type": "code",
   "execution_count": 89,
   "id": "b41b7323-cd3a-483c-b2a1-e99ee14750bf",
   "metadata": {},
   "outputs": [
    {
     "data": {
      "text/plain": [
       "[2, 90, 51, 9.87, 2, 5, 6, 80, 6, 300]"
      ]
     },
     "execution_count": 89,
     "metadata": {},
     "output_type": "execute_result"
    }
   ],
   "source": [
    "core   # original order of this list"
   ]
  },
  {
   "cell_type": "code",
   "execution_count": 94,
   "id": "0b2d3077-ac5c-4914-b0fa-4386433ab0d2",
   "metadata": {},
   "outputs": [],
   "source": [
    "core.reverse()  # it reverses the original list"
   ]
  },
  {
   "cell_type": "code",
   "execution_count": 95,
   "id": "200a2ea8-01a4-4618-af8c-03aecf319218",
   "metadata": {},
   "outputs": [
    {
     "data": {
      "text/plain": [
       "[300, 6, 80, 6, 5, 2, 9.87, 51, 90, 2]"
      ]
     },
     "execution_count": 95,
     "metadata": {},
     "output_type": "execute_result"
    }
   ],
   "source": [
    "core   # here is the reverse order of the list."
   ]
  },
  {
   "cell_type": "code",
   "execution_count": 98,
   "id": "79a39c9d-6d5e-40f9-872d-0bd902c672da",
   "metadata": {},
   "outputs": [],
   "source": [
    "core.sort()  # it gives assending order "
   ]
  },
  {
   "cell_type": "code",
   "execution_count": 99,
   "id": "dd684179-03c7-4c78-b40a-a8ce3be183af",
   "metadata": {},
   "outputs": [
    {
     "data": {
      "text/plain": [
       "[2, 2, 5, 6, 6, 9.87, 51, 80, 90, 300]"
      ]
     },
     "execution_count": 99,
     "metadata": {},
     "output_type": "execute_result"
    }
   ],
   "source": [
    "core  # assending order of the list "
   ]
  },
  {
   "cell_type": "code",
   "execution_count": 102,
   "id": "620e52a8-7a54-4854-a7e9-732257b09655",
   "metadata": {},
   "outputs": [],
   "source": [
    "core.sort(reverse=True)   # it gives Dissending Order of the list \n",
    "# Technically speaking, \"sort\" gives only Assending order,\n",
    "# but in arguments we passed \"reverse=True\", it means it gives the reverse of assending order, \n",
    "# which is Dissending Order."
   ]
  },
  {
   "cell_type": "code",
   "execution_count": 103,
   "id": "92f56622-a2a2-465a-910a-5fd049c91c95",
   "metadata": {},
   "outputs": [
    {
     "data": {
      "text/plain": [
       "[300, 90, 80, 51, 9.87, 6, 6, 5, 2, 2]"
      ]
     },
     "execution_count": 103,
     "metadata": {},
     "output_type": "execute_result"
    }
   ],
   "source": [
    "core   # dissending order of the list. "
   ]
  },
  {
   "cell_type": "code",
   "execution_count": null,
   "id": "12f68179-dace-47e5-a605-2a3f81128fdf",
   "metadata": {},
   "outputs": [],
   "source": []
  },
  {
   "cell_type": "code",
   "execution_count": null,
   "id": "30ba9058-f999-49b1-8d20-9b1ced29b9b1",
   "metadata": {},
   "outputs": [],
   "source": []
  },
  {
   "cell_type": "markdown",
   "id": "6bf64c4c-af95-46af-a4ac-a2a3b2a81383",
   "metadata": {},
   "source": [
    "## Function"
   ]
  },
  {
   "cell_type": "code",
   "execution_count": 82,
   "id": "2537c70f-f721-4b4c-8aa0-646be7e46960",
   "metadata": {},
   "outputs": [
    {
     "data": {
      "text/plain": [
       "10"
      ]
     },
     "execution_count": 82,
     "metadata": {},
     "output_type": "execute_result"
    }
   ],
   "source": [
    "len(core)  # it gives total length of the data"
   ]
  },
  {
   "cell_type": "code",
   "execution_count": 83,
   "id": "675f00d6-3a61-46dd-aa97-7f263a5dd763",
   "metadata": {},
   "outputs": [
    {
     "data": {
      "text/plain": [
       "list"
      ]
     },
     "execution_count": 83,
     "metadata": {},
     "output_type": "execute_result"
    }
   ],
   "source": [
    "type(core) # it checks the type of the data"
   ]
  },
  {
   "cell_type": "code",
   "execution_count": 84,
   "id": "5ac35851-99eb-4871-a8e6-826700d7c90a",
   "metadata": {},
   "outputs": [
    {
     "data": {
      "text/plain": [
       "tuple"
      ]
     },
     "execution_count": 84,
     "metadata": {},
     "output_type": "execute_result"
    }
   ],
   "source": [
    "bold=(23,78,90,27,65,\"hii\")   \n",
    "type(bold)\n",
    "# its tuple data type, as we know we can't change it.\n",
    "# but we determined to do so,  we can convert tuple into list for changing the data."
   ]
  },
  {
   "cell_type": "code",
   "execution_count": 85,
   "id": "6a91bc43-6896-4456-a415-3486a297b22d",
   "metadata": {},
   "outputs": [
    {
     "data": {
      "text/plain": [
       "[23, 78, 90, 27, 65, 'hii']"
      ]
     },
     "execution_count": 85,
     "metadata": {},
     "output_type": "execute_result"
    }
   ],
   "source": [
    "duck=list(bold) # we created new variable, assigned list version of \"bold\" as its data\n",
    "duck  # by calling \"duck\" variable, we can see list version."
   ]
  },
  {
   "cell_type": "code",
   "execution_count": 86,
   "id": "7ee97629-517c-476f-bf96-2bdbb5fd98d9",
   "metadata": {},
   "outputs": [
    {
     "data": {
      "text/plain": [
       "[23, 78, 90, 27, 65, 'cool']"
      ]
     },
     "execution_count": 86,
     "metadata": {},
     "output_type": "execute_result"
    }
   ],
   "source": [
    "duck[5]=\"cool\"  # we changed 5th position in duck as \"cool\"\n",
    "# previously \"hii\" (in 5th position) becomes \"cool\" now\n",
    "\n",
    "duck"
   ]
  },
  {
   "cell_type": "code",
   "execution_count": 87,
   "id": "840a3c58-6925-441b-8e1a-0c07a8c855b7",
   "metadata": {},
   "outputs": [
    {
     "data": {
      "text/plain": [
       "(23, 78, 90, 27, 65, 'hii')"
      ]
     },
     "execution_count": 87,
     "metadata": {},
     "output_type": "execute_result"
    }
   ],
   "source": [
    "bold"
   ]
  },
  {
   "cell_type": "code",
   "execution_count": 88,
   "id": "5b18233e-b284-487b-9204-75e4ebe14c08",
   "metadata": {},
   "outputs": [
    {
     "data": {
      "text/plain": [
       "[2, 90, 51, 9.87, 2, 5, 6, 80, 6, 300]"
      ]
     },
     "execution_count": 88,
     "metadata": {},
     "output_type": "execute_result"
    }
   ],
   "source": [
    "core"
   ]
  },
  {
   "cell_type": "markdown",
   "id": "119b1109-9c74-419e-8ead-ab59b536f159",
   "metadata": {},
   "source": [
    "## List Comprehension\n",
    "\n",
    "Used for optiming the code."
   ]
  },
  {
   "cell_type": "code",
   "execution_count": 107,
   "id": "50f8f6c7-a3a7-4832-94dd-d0a13c8c629b",
   "metadata": {},
   "outputs": [
    {
     "name": "stdout",
     "output_type": "stream",
     "text": [
      "1\n",
      "2\n",
      "3\n",
      "4\n",
      "5\n",
      "6\n",
      "7\n",
      "8\n",
      "9\n",
      "10\n"
     ]
    }
   ],
   "source": [
    "for i in range(1,11):    \n",
    "    print(i)\n",
    "\n",
    "# this for only orientation class we will digdeep in 'for loops' class"
   ]
  },
  {
   "cell_type": "markdown",
   "id": "c5702b99-3afb-4487-b78a-4155ec20afa5",
   "metadata": {},
   "source": [
    "## 2D & 3D List"
   ]
  },
  {
   "cell_type": "code",
   "execution_count": 108,
   "id": "a1b39edd-d502-473b-9421-0b7869d796c3",
   "metadata": {},
   "outputs": [],
   "source": [
    "bell=[2,90,35,24,38]   # 1D list"
   ]
  },
  {
   "cell_type": "code",
   "execution_count": 109,
   "id": "7c193e11-928b-4224-ae51-ccf2afb6e3aa",
   "metadata": {},
   "outputs": [],
   "source": [
    "nord=[[2,90,12,30],[67,83,27,54]] #2D list"
   ]
  },
  {
   "cell_type": "code",
   "execution_count": 113,
   "id": "b06e8973-c731-4acf-bb56-4bb069179f85",
   "metadata": {},
   "outputs": [],
   "source": [
    "vest=[[[2,3,7,52],[65,23,83,19]],[[63,35,97,14],[5.9,94,43]]]  #3D List"
   ]
  },
  {
   "cell_type": "code",
   "execution_count": 115,
   "id": "1a585a08-9f80-4e1f-9717-1ecf013d5b4f",
   "metadata": {},
   "outputs": [
    {
     "data": {
      "text/plain": [
       "[[63, 35, 97, 14], [5.9, 94, 43]]"
      ]
     },
     "execution_count": 115,
     "metadata": {},
     "output_type": "execute_result"
    }
   ],
   "source": [
    "vest[1] # inside 3D list we got 2nd bolck, which is in 1st position"
   ]
  },
  {
   "cell_type": "code",
   "execution_count": 116,
   "id": "7cd1d96a-63d9-4c6c-8956-88c413bc08a1",
   "metadata": {},
   "outputs": [
    {
     "data": {
      "text/plain": [
       "[5.9, 94, 43]"
      ]
     },
     "execution_count": 116,
     "metadata": {},
     "output_type": "execute_result"
    }
   ],
   "source": [
    "vest[1][1] # in-side 2nd bolck, we entered to 2nd part"
   ]
  },
  {
   "cell_type": "code",
   "execution_count": 117,
   "id": "12093a02-6281-4b2c-92f2-b01730c80cd6",
   "metadata": {},
   "outputs": [
    {
     "data": {
      "text/plain": [
       "5.9"
      ]
     },
     "execution_count": 117,
     "metadata": {},
     "output_type": "execute_result"
    }
   ],
   "source": [
    "vest[1][1][0] # in 2nd block, 2nd part, we reached 0th position"
   ]
  },
  {
   "cell_type": "code",
   "execution_count": 118,
   "id": "ecff88f5-419a-4402-9ead-00d8e5aa6653",
   "metadata": {},
   "outputs": [],
   "source": [
    "vest[1][1][0]=6  # we changed the value of 5.9 to 6"
   ]
  },
  {
   "cell_type": "code",
   "execution_count": 119,
   "id": "8942669b-05f2-4f2a-8282-47afc0cf5837",
   "metadata": {},
   "outputs": [
    {
     "data": {
      "text/plain": [
       "[[[2, 3, 7, 52], [65, 23, 83, 19]], [[63, 35, 97, 14], [6, 94, 43]]]"
      ]
     },
     "execution_count": 119,
     "metadata": {},
     "output_type": "execute_result"
    }
   ],
   "source": [
    "vest  # we can see our changes in last list oth position."
   ]
  },
  {
   "cell_type": "code",
   "execution_count": null,
   "id": "c8ad795c-5ab8-46a6-bbc5-bf0bffa6b0cc",
   "metadata": {},
   "outputs": [],
   "source": []
  },
  {
   "cell_type": "code",
   "execution_count": null,
   "id": "d7febabf-b9e8-4ff0-a9a5-ca53200ab3f9",
   "metadata": {},
   "outputs": [],
   "source": []
  },
  {
   "cell_type": "code",
   "execution_count": null,
   "id": "c24218fa-8790-41e0-a406-e0b02113c104",
   "metadata": {},
   "outputs": [],
   "source": []
  },
  {
   "cell_type": "code",
   "execution_count": null,
   "id": "4a187da6-552f-4193-8cf4-39ed3f79bb80",
   "metadata": {},
   "outputs": [],
   "source": []
  },
  {
   "cell_type": "code",
   "execution_count": null,
   "id": "f65269bc-d49a-452c-87cf-03495b56059f",
   "metadata": {},
   "outputs": [],
   "source": []
  },
  {
   "cell_type": "code",
   "execution_count": null,
   "id": "79622b34-97c9-4d46-be52-1e915e66e8e6",
   "metadata": {},
   "outputs": [],
   "source": []
  },
  {
   "cell_type": "code",
   "execution_count": null,
   "id": "5e0d20cf-558c-49e8-830a-c5dbb7ad9cb2",
   "metadata": {},
   "outputs": [],
   "source": []
  },
  {
   "cell_type": "code",
   "execution_count": null,
   "id": "9a09580c-4618-4da8-8f61-85c70e1a7433",
   "metadata": {},
   "outputs": [],
   "source": []
  },
  {
   "cell_type": "code",
   "execution_count": null,
   "id": "f041c8c2-ca3b-45ee-8379-d148e97cdd9f",
   "metadata": {},
   "outputs": [],
   "source": []
  }
 ],
 "metadata": {
  "kernelspec": {
   "display_name": "Python [conda env:base] *",
   "language": "python",
   "name": "conda-base-py"
  },
  "language_info": {
   "codemirror_mode": {
    "name": "ipython",
    "version": 3
   },
   "file_extension": ".py",
   "mimetype": "text/x-python",
   "name": "python",
   "nbconvert_exporter": "python",
   "pygments_lexer": "ipython3",
   "version": "3.13.5"
  },
  "widgets": {
   "application/vnd.jupyter.widget-state+json": {
    "state": {},
    "version_major": 2,
    "version_minor": 0
   }
  }
 },
 "nbformat": 4,
 "nbformat_minor": 5
}
