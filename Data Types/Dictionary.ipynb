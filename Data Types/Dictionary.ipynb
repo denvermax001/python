{
 "cells": [
  {
   "cell_type": "code",
   "execution_count": 1,
   "id": "6424148f-aeea-4100-871f-f37b550d5c6e",
   "metadata": {},
   "outputs": [
    {
     "data": {
      "text/plain": [
       "{2: 18, 'hi': 89, 'hero': 'doctor', 65: 100}"
      ]
     },
     "execution_count": 1,
     "metadata": {},
     "output_type": "execute_result"
    }
   ],
   "source": [
    "anand={2:18,\"hi\":89,\"hero\":\"doctor\",65:100}\n",
    "anand    # dict doesn't have any order(indexing). \n",
    "\n",
    "# it has only keys & values."
   ]
  },
  {
   "cell_type": "code",
   "execution_count": 2,
   "id": "f189fe5f-009e-43cc-9d4c-b9b915054897",
   "metadata": {},
   "outputs": [
    {
     "data": {
      "text/plain": [
       "dict"
      ]
     },
     "execution_count": 2,
     "metadata": {},
     "output_type": "execute_result"
    }
   ],
   "source": [
    "type(anand)"
   ]
  },
  {
   "cell_type": "code",
   "execution_count": 3,
   "id": "81436ab8-f9bb-491d-a45c-f11823ef2fa4",
   "metadata": {},
   "outputs": [
    {
     "data": {
      "text/plain": [
       "dict_keys([2, 'hi', 'hero', 65])"
      ]
     },
     "execution_count": 3,
     "metadata": {},
     "output_type": "execute_result"
    }
   ],
   "source": [
    "anand.keys()  # it gives the \"list of keys\""
   ]
  },
  {
   "cell_type": "code",
   "execution_count": 4,
   "id": "ed16a98c-f6d4-4e83-a08e-b65429e617c9",
   "metadata": {},
   "outputs": [
    {
     "data": {
      "text/plain": [
       "dict_values([18, 89, 'doctor', 100])"
      ]
     },
     "execution_count": 4,
     "metadata": {},
     "output_type": "execute_result"
    }
   ],
   "source": [
    "anand.values() #it gives \"list of values\""
   ]
  },
  {
   "cell_type": "code",
   "execution_count": 5,
   "id": "48b4c095-0ec8-4def-9aa1-5a99faadfea9",
   "metadata": {},
   "outputs": [
    {
     "data": {
      "text/plain": [
       "18"
      ]
     },
     "execution_count": 5,
     "metadata": {},
     "output_type": "execute_result"
    }
   ],
   "source": [
    "anand.get(2)  # it gives the value of that key, \n",
    "# in this case key is \"2\" and its value is \"18\""
   ]
  },
  {
   "cell_type": "code",
   "execution_count": 6,
   "id": "cd5afcb8-341e-43bc-a18a-3811f255b8f5",
   "metadata": {},
   "outputs": [
    {
     "data": {
      "text/plain": [
       "{'h': None, 'i': None}"
      ]
     },
     "execution_count": 6,
     "metadata": {},
     "output_type": "execute_result"
    }
   ],
   "source": [
    "anand.fromkeys(\"hi\")  # takes input and creates keys with \"None\" values.\n",
    "# here, it converted \"hi\" into 2 keys with value as None."
   ]
  },
  {
   "cell_type": "code",
   "execution_count": 7,
   "id": "2261648e-ec2e-4334-a262-bdc52320d1d6",
   "metadata": {},
   "outputs": [
    {
     "data": {
      "text/plain": [
       "{'employees': None, 'salary': None}"
      ]
     },
     "execution_count": 7,
     "metadata": {},
     "output_type": "execute_result"
    }
   ],
   "source": [
    "t1=(\"employees\",\"salary\")  # we declared a variable with tuple data.\n",
    "t2={} # dictionary  # we created empty \"dictionary\"\n",
    "t2.fromkeys(t1)     # now we are taking (t1)tuple-data as keys in the (t2)dictionary"
   ]
  },
  {
   "cell_type": "code",
   "execution_count": 8,
   "id": "9e900384-623b-4b5e-97a8-5ef3cb1a3db1",
   "metadata": {},
   "outputs": [],
   "source": [
    "t2[\"employees\"]=\"chandu\"  # we assigning values to the keys. aka \"item assignement\" in dictionary\n",
    "t2[\"salary\"]=1200"
   ]
  },
  {
   "cell_type": "code",
   "execution_count": 9,
   "id": "0620387e-b68e-4a60-989d-49eacd002946",
   "metadata": {},
   "outputs": [
    {
     "data": {
      "text/plain": [
       "{'employees': 'chandu', 'salary': 1200}"
      ]
     },
     "execution_count": 9,
     "metadata": {},
     "output_type": "execute_result"
    }
   ],
   "source": [
    "t2"
   ]
  },
  {
   "cell_type": "code",
   "execution_count": 10,
   "id": "9795107d-5411-4925-a4aa-b9650d45cd10",
   "metadata": {},
   "outputs": [
    {
     "data": {
      "text/plain": [
       "dict"
      ]
     },
     "execution_count": 10,
     "metadata": {},
     "output_type": "execute_result"
    }
   ],
   "source": [
    "skill={}  # we are creating another empty dictionary\n",
    "type(skill)"
   ]
  },
  {
   "cell_type": "code",
   "execution_count": 11,
   "id": "9bfd1b5b-0931-4c56-913b-5388a0922b6c",
   "metadata": {},
   "outputs": [],
   "source": [
    "# we are assigning multile values to the \"each keys\"\n",
    "# we choose list data type for multiple values assignment, becoz we wants to edit them if needed\n",
    "# otherwise you can choose \"tuple data type\" if you don't wants to change values in the future\n",
    "skill[\"product\"]=[\"pens\",\"eraser\",\"plank\"] \n",
    "skill[\"sales\"]=[10000,1400,2000]\n",
    "skill[\"profit\"]=[6000,540,1500]"
   ]
  },
  {
   "cell_type": "code",
   "execution_count": 12,
   "id": "423d2333-5b29-41da-a9af-6f6f5f81b553",
   "metadata": {},
   "outputs": [
    {
     "data": {
      "text/plain": [
       "{'product': ['pens', 'eraser', 'plank'],\n",
       " 'sales': [10000, 1400, 2000],\n",
       " 'profit': [6000, 540, 1500]}"
      ]
     },
     "execution_count": 12,
     "metadata": {},
     "output_type": "execute_result"
    }
   ],
   "source": [
    "skill   # as you can see below dictionary is collection of \"keys\" and \"values\"\n",
    "# But there is a problem: below dictionary is not looking userfriendly or super convenient"
   ]
  },
  {
   "cell_type": "code",
   "execution_count": 13,
   "id": "bdbc7fb2-7f01-4cf5-b48a-8d4c9ed69d59",
   "metadata": {},
   "outputs": [],
   "source": [
    "import pandas  # we imported pandas to make the data easy to access & interact"
   ]
  },
  {
   "cell_type": "code",
   "execution_count": 14,
   "id": "2b1e7997-0ac5-42c7-820b-77b27a80ef67",
   "metadata": {},
   "outputs": [
    {
     "data": {
      "text/html": [
       "<div>\n",
       "<style scoped>\n",
       "    .dataframe tbody tr th:only-of-type {\n",
       "        vertical-align: middle;\n",
       "    }\n",
       "\n",
       "    .dataframe tbody tr th {\n",
       "        vertical-align: top;\n",
       "    }\n",
       "\n",
       "    .dataframe thead th {\n",
       "        text-align: right;\n",
       "    }\n",
       "</style>\n",
       "<table border=\"1\" class=\"dataframe\">\n",
       "  <thead>\n",
       "    <tr style=\"text-align: right;\">\n",
       "      <th></th>\n",
       "      <th>product</th>\n",
       "      <th>sales</th>\n",
       "      <th>profit</th>\n",
       "    </tr>\n",
       "  </thead>\n",
       "  <tbody>\n",
       "    <tr>\n",
       "      <th>0</th>\n",
       "      <td>pens</td>\n",
       "      <td>10000</td>\n",
       "      <td>6000</td>\n",
       "    </tr>\n",
       "    <tr>\n",
       "      <th>1</th>\n",
       "      <td>eraser</td>\n",
       "      <td>1400</td>\n",
       "      <td>540</td>\n",
       "    </tr>\n",
       "    <tr>\n",
       "      <th>2</th>\n",
       "      <td>plank</td>\n",
       "      <td>2000</td>\n",
       "      <td>1500</td>\n",
       "    </tr>\n",
       "  </tbody>\n",
       "</table>\n",
       "</div>"
      ],
      "text/plain": [
       "  product  sales  profit\n",
       "0    pens  10000    6000\n",
       "1  eraser   1400     540\n",
       "2   plank   2000    1500"
      ]
     },
     "execution_count": 14,
     "metadata": {},
     "output_type": "execute_result"
    }
   ],
   "source": [
    "pandas.DataFrame(skill) # we craeted dataframe using pandas for accessing the data in \"table format\"\n",
    "# table is nothing but, combination of \"Dictionary\" and \"List\""
   ]
  },
  {
   "cell_type": "code",
   "execution_count": 15,
   "id": "d998df05-6b1a-489d-99ba-5846e1c2eed4",
   "metadata": {},
   "outputs": [
    {
     "data": {
      "text/plain": [
       "dict_keys(['product', 'sales', 'profit'])"
      ]
     },
     "execution_count": 15,
     "metadata": {},
     "output_type": "execute_result"
    }
   ],
   "source": [
    "skill.keys()  # it  gives all available keys in the dictionary"
   ]
  },
  {
   "cell_type": "code",
   "execution_count": 16,
   "id": "009ae578-a25b-4727-ac2e-1855ad2f2267",
   "metadata": {},
   "outputs": [
    {
     "data": {
      "text/plain": [
       "dict_values([['pens', 'eraser', 'plank'], [10000, 1400, 2000], [6000, 540, 1500]])"
      ]
     },
     "execution_count": 16,
     "metadata": {},
     "output_type": "execute_result"
    }
   ],
   "source": [
    "skill.values()  #it gives list of values"
   ]
  },
  {
   "cell_type": "code",
   "execution_count": 17,
   "id": "061fba3f-3808-43c0-84b5-c3d3ea038c6c",
   "metadata": {},
   "outputs": [
    {
     "data": {
      "text/plain": [
       "dict_keys([2, 'hi', 'hero', 65])"
      ]
     },
     "execution_count": 17,
     "metadata": {},
     "output_type": "execute_result"
    }
   ],
   "source": [
    "anand.keys()   "
   ]
  },
  {
   "cell_type": "code",
   "execution_count": 18,
   "id": "b1f14af4-60f6-479f-95f5-28f375dcd01a",
   "metadata": {},
   "outputs": [
    {
     "data": {
      "text/plain": [
       "dict_values([18, 89, 'doctor', 100])"
      ]
     },
     "execution_count": 18,
     "metadata": {},
     "output_type": "execute_result"
    }
   ],
   "source": [
    "anand.values()   "
   ]
  },
  {
   "cell_type": "code",
   "execution_count": 19,
   "id": "7cd64c7f-5772-43a9-9320-f65f2df6995f",
   "metadata": {},
   "outputs": [
    {
     "data": {
      "text/plain": [
       "{'c': None, 'o': None, 'l': None, 'd': None}"
      ]
     },
     "execution_count": 19,
     "metadata": {},
     "output_type": "execute_result"
    }
   ],
   "source": [
    "anand.fromkeys(\"cold\")"
   ]
  },
  {
   "cell_type": "code",
   "execution_count": 20,
   "id": "2fa2d06b-4649-4d48-bfb1-ed338076b6de",
   "metadata": {},
   "outputs": [
    {
     "data": {
      "text/plain": [
       "18"
      ]
     },
     "execution_count": 20,
     "metadata": {},
     "output_type": "execute_result"
    }
   ],
   "source": [
    "anand.get(2)"
   ]
  },
  {
   "cell_type": "code",
   "execution_count": 38,
   "id": "6c57e199-6e13-4677-90a7-540ed6785775",
   "metadata": {},
   "outputs": [],
   "source": [
    "anand.update({\"cool\":45}) # it adds the new given data in the end of the original data"
   ]
  },
  {
   "cell_type": "code",
   "execution_count": 39,
   "id": "817a0376-29e5-4fbb-b877-d16fa601e665",
   "metadata": {},
   "outputs": [
    {
     "data": {
      "text/plain": [
       "{2: 18, 'hi': 89, 'hero': 'doctor', 65: 100, 'cool': 45}"
      ]
     },
     "execution_count": 39,
     "metadata": {},
     "output_type": "execute_result"
    }
   ],
   "source": [
    "anand"
   ]
  },
  {
   "cell_type": "code",
   "execution_count": null,
   "id": "e390eced-0cd6-4cba-ab65-385a736855e7",
   "metadata": {},
   "outputs": [],
   "source": []
  }
 ],
 "metadata": {
  "kernelspec": {
   "display_name": "Python [conda env:base] *",
   "language": "python",
   "name": "conda-base-py"
  },
  "language_info": {
   "codemirror_mode": {
    "name": "ipython",
    "version": 3
   },
   "file_extension": ".py",
   "mimetype": "text/x-python",
   "name": "python",
   "nbconvert_exporter": "python",
   "pygments_lexer": "ipython3",
   "version": "3.13.5"
  },
  "widgets": {
   "application/vnd.jupyter.widget-state+json": {
    "state": {},
    "version_major": 2,
    "version_minor": 0
   }
  }
 },
 "nbformat": 4,
 "nbformat_minor": 5
}
