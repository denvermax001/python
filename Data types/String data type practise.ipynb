


vera='my universe'  # single quote string declaration 
beats="interstelllar is a nice place"  # double quote string declaration 


core="its a new beginning"   # single line string declaration 
core[0]


bold="""Iam a fool who doesn't know  
something was impossible,
so i went on to tryit over & over again.
And i did it.
Then they called a genius"""     # Multiple line string declaration

print(bold)


solid="impossible"    # In python we have both positive & negative indexing. 
solid[0]              # In Python indexing always starts from 0 (Positive indexing)
                      # Negative indexing starts from -1


solid[-1]            # Negative indexing








solid[4]    # we slice the 4th position from the data





door="nothing" 
window="is"
door+window+solid  # Concatination is nothing but ADDING the values


door+" "+window+" "+solid  # with little improvements for better readability. we added "space"





metal="Obsession "
metal*100    # it prints metal variable data 100 times





zodi="Lenear thinking results in copies of past products"
zodi.upper()  


zodi.lower() 


zodi.capitalize()


zodi.index("e") # index takes only string as argument
                # it takes only one argument 
                # it gives only the first occurence

# HINT: Argument is nothing but the things we write in brackets
             
               # Use only when you know if the sub-string is exists or wants to raise exceptions, 
               # if it doesnt exists     


zodi.index("python")  # we got error becoz "python" doesnt exists in the data


zodi.index("t",5)  # Finds position of "e" starting from index 5


zodi.find("i") # use it if you have no idea wheather sub-string exists or not. 
               # also doesn't want to handle exceptions


zodi.find("python")  # even though "python" doesn't exists it didn't raised error.
                     # Instead a simple -1 value for indicating it doesn't exists in the data


zodi.count("e")  # counts how many times "e" exists in the data.





len(zodi)  # calculates total length of the string data

# for functions we place the variable name inside the brackets.


type(zodi)  # checks which type of data it contains


# Other functions:
                    # max()
                    # min()





student_name="Anand"
salary=25000
company="TCS"


core_message="Congrates (student_name) for getting placed at (company name) with (salary_value) salary"





print("Congrates %s for getting placed at %s with %i salary".%(student_name,company,salary))

# we got error becoz I placed "dot" after string declaration 


print("Congrates %s for getting placed at %s with %i/- salary." %(student_name,company,salary))
# after string declaration we should start with "%", then open brackets and give variable name 

# %s refers to string data 
# %i refers to integer data 
# #f refers to float data type 





print(f"Congrates {student_name} for getting placed at {company} with {salary}/- salary.")





print("Congrates {} for getting placed at {} with {}/- salary.".format(student_name,company,salary))





print("Find complex problems, \nAnd make your solution so simple, \nit just works")
# its an example for Escaping
# we modify the text with separate lines using backward slash and n as (\n) 
# for better readability.


print(r"Find complex problems, \nAnd make your solution so simple, \nit just works")
# example for rawstring.
# we can view the text as it is by placing "r" at start of string declaration.
# for better understanding & research purposes.



