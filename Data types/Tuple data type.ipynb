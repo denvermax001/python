


anand=(2,99.7,"cool",90,"best",2,2)
anand[2]

# Tuple works as container which store anything like list, dictionary, set


anand[3]="class"


anand[1:] # this range gives values of positions from 1 to till end


anand[2:4]  # this range gives values of positions from 2 to 3rd position, because python ignores (4)last position. 


anand[: :] # it gives the data in reverese order 


anand[: : -1]


anand[: : 2] # it gives values of all 0,2,4,6 positions





sai=(2,3,96)
kiran=(90,34,46)
sai+kiran            # concatination


sai*10  # repetition





# a=variable name
# Methods:    a.count()
#             a.count()

# Functions: len(a)
#            type(a)
#            tuple(a)


anand.count(2)


anand.index("cool")


len(anand)


type(anand)









