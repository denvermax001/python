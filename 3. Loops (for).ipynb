{
 "cells": [
  {
   "cell_type": "code",
   "execution_count": 1,
   "id": "f930450b-0a03-44c0-a492-966fc99d7623",
   "metadata": {},
   "outputs": [
    {
     "name": "stdout",
     "output_type": "stream",
     "text": [
      "hii anand\n",
      "hii kiran\n",
      "hii sai\n",
      "hii surya\n"
     ]
    }
   ],
   "source": [
    "bold=[\"anand\",\"kiran\",\"sai\",\"surya\"]\n",
    "for boss in bold:\n",
    "    print(\"hii\"+\" \"+boss)"
   ]
  },
  {
   "cell_type": "code",
   "execution_count": 2,
   "id": "c08fbcac-cb50-4880-8e6b-691116cc4d03",
   "metadata": {},
   "outputs": [
    {
     "name": "stdout",
     "output_type": "stream",
     "text": [
      "1\n",
      "2\n",
      "3\n",
      "4\n",
      "5\n",
      "6\n",
      "7\n",
      "8\n",
      "9\n",
      "10\n",
      "11\n",
      "12\n"
     ]
    }
   ],
   "source": [
    "mall=range(1,13)\n",
    "for i in mall:\n",
    "    print(i)"
   ]
  },
  {
   "cell_type": "code",
   "execution_count": 3,
   "id": "b1880b2a-afd6-4744-93f9-a0bbcb10acc4",
   "metadata": {},
   "outputs": [
    {
     "name": "stdout",
     "output_type": "stream",
     "text": [
      "1\n",
      "2\n",
      "3\n",
      "4\n",
      "5\n",
      "6\n",
      "7\n",
      "8\n",
      "9\n",
      "10\n",
      "11\n",
      "12\n",
      "13\n"
     ]
    }
   ],
   "source": [
    "new=range(1,14,1)\n",
    "for x in new:\n",
    "    print(x)"
   ]
  },
  {
   "cell_type": "code",
   "execution_count": 4,
   "id": "2c98ea14-1236-4e0e-9680-08a0d61a318a",
   "metadata": {},
   "outputs": [
    {
     "name": "stdout",
     "output_type": "stream",
     "text": [
      "1\n",
      "3\n",
      "5\n",
      "7\n",
      "9\n",
      "11\n",
      "13\n"
     ]
    }
   ],
   "source": [
    "core=range(1,14,2)\n",
    "for joy in core:\n",
    "    print(joy)"
   ]
  },
  {
   "cell_type": "code",
   "execution_count": 5,
   "id": "5c823bea-4779-48ff-814f-b585e971f2dd",
   "metadata": {},
   "outputs": [
    {
     "name": "stdout",
     "output_type": "stream",
     "text": [
      "1\n",
      "4\n",
      "7\n",
      "10\n",
      "13\n"
     ]
    }
   ],
   "source": [
    "zodi=range(1,14,3)\n",
    "for solid in zodi:\n",
    "    print(solid)"
   ]
  },
  {
   "cell_type": "code",
   "execution_count": 6,
   "id": "3456947b-d926-4ab3-a79e-f9da771b57e2",
   "metadata": {},
   "outputs": [
    {
     "name": "stdout",
     "output_type": "stream",
     "text": [
      "14\n",
      "13\n",
      "12\n",
      "11\n",
      "10\n",
      "9\n",
      "8\n",
      "7\n",
      "6\n",
      "5\n",
      "4\n",
      "3\n",
      "2\n",
      "1\n"
     ]
    }
   ],
   "source": [
    "roja=range(14,0,-1)\n",
    "for rosie in roja:\n",
    "    print(rosie)"
   ]
  },
  {
   "cell_type": "code",
   "execution_count": null,
   "id": "c6c4565f-6774-4da5-aab0-6dbc59c0842d",
   "metadata": {},
   "outputs": [],
   "source": []
  }
 ],
 "metadata": {
  "kernelspec": {
   "display_name": "Python [conda env:base] *",
   "language": "python",
   "name": "conda-base-py"
  },
  "language_info": {
   "codemirror_mode": {
    "name": "ipython",
    "version": 3
   },
   "file_extension": ".py",
   "mimetype": "text/x-python",
   "name": "python",
   "nbconvert_exporter": "python",
   "pygments_lexer": "ipython3",
   "version": "3.13.5"
  },
  "widgets": {
   "application/vnd.jupyter.widget-state+json": {
    "state": {},
    "version_major": 2,
    "version_minor": 0
   }
  }
 },
 "nbformat": 4,
 "nbformat_minor": 5
}
