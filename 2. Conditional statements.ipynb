{
 "cells": [
  {
   "cell_type": "code",
   "execution_count": 1,
   "id": "579e14f0-5bc7-4ea4-91be-b0db751a770c",
   "metadata": {},
   "outputs": [],
   "source": [
    "a=12\n",
    "b=19\n",
    "c=30"
   ]
  },
  {
   "cell_type": "code",
   "execution_count": 2,
   "id": "a126ab59-77ce-4c29-bb3e-025222256205",
   "metadata": {},
   "outputs": [
    {
     "name": "stdout",
     "output_type": "stream",
     "text": [
      "code stops here\n"
     ]
    }
   ],
   "source": [
    "if a>b:\n",
    "    print(\"hii\")\n",
    "elif a>c:\n",
    "    print(\"good\")\n",
    "elif c>a:\n",
    "    print(\"code stops here\")\n",
    "else :\n",
    "    print(\"bad\")"
   ]
  },
  {
   "cell_type": "code",
   "execution_count": 16,
   "id": "56bfbb90-fbe7-4cfe-94e3-564ba2744551",
   "metadata": {},
   "outputs": [
    {
     "name": "stdin",
     "output_type": "stream",
     "text": [
      "write username: lenin\n",
      "write password: lenin123\n"
     ]
    },
    {
     "name": "stdout",
     "output_type": "stream",
     "text": [
      "log in successfull.\n"
     ]
    }
   ],
   "source": [
    "userid=\"lenin\"\n",
    "password=\"lenin123\"\n",
    "username_input=input(\"write username:\")\n",
    "\n",
    "if username_input==userid: \n",
    "    password_input=input(\"write password:\")\n",
    "    if password_input==password: \n",
    "        print(\"log in successfull.\")\n",
    "    else:\n",
    "        print(\"password is wrong.\")\n",
    "elif username_input!=userid: \n",
    "    print(\"username is wrong.\")\n",
    "\n",
    "else:\n",
    "    print(\"username or password is incorrect.\")"
   ]
  },
  {
   "cell_type": "code",
   "execution_count": 21,
   "id": "44ee1f78-88fe-44cb-9170-e18aa993f83d",
   "metadata": {},
   "outputs": [
    {
     "name": "stdin",
     "output_type": "stream",
     "text": [
      "username: anand\n",
      "Password: \n"
     ]
    },
    {
     "name": "stdout",
     "output_type": "stream",
     "text": [
      "Password is wrong\n"
     ]
    }
   ],
   "source": [
    "userid1=\"anand\"\n",
    "password1=\"anand917\"\n",
    "userid_input1=input(\"username:\")\n",
    "if userid_input1==userid1: \n",
    "    password_input1=input(\"Password:\")\n",
    "    if password_input1==password1: \n",
    "        print(\"Log in successfull\")\n",
    "    elif password_input1!=password1: \n",
    "        print(\"Password is wrong\")\n",
    "elif userid_input1!=userid1:\n",
    "    print(\"Username is Wrong\")\n",
    "else:\n",
    "    print(\"username or password is wrong\")"
   ]
  },
  {
   "cell_type": "code",
   "execution_count": null,
   "id": "24d41edd-6c90-4fd6-a433-eae3490c85b4",
   "metadata": {},
   "outputs": [],
   "source": []
  }
 ],
 "metadata": {
  "kernelspec": {
   "display_name": "Python [conda env:base] *",
   "language": "python",
   "name": "conda-base-py"
  },
  "language_info": {
   "codemirror_mode": {
    "name": "ipython",
    "version": 3
   },
   "file_extension": ".py",
   "mimetype": "text/x-python",
   "name": "python",
   "nbconvert_exporter": "python",
   "pygments_lexer": "ipython3",
   "version": "3.13.5"
  },
  "widgets": {
   "application/vnd.jupyter.widget-state+json": {
    "state": {},
    "version_major": 2,
    "version_minor": 0
   }
  }
 },
 "nbformat": 4,
 "nbformat_minor": 5
}
